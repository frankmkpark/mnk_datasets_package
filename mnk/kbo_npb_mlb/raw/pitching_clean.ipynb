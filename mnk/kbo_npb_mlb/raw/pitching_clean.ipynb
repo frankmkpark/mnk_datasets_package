{
 "cells": [
  {
   "cell_type": "code",
   "execution_count": 3,
   "id": "e5219023",
   "metadata": {},
   "outputs": [],
   "source": [
    "import pandas as pd\n",
    "import numpy as np\n",
    "\n",
    "BASE_STATS = [\"G\",\"W\",\"L\",\"CG\",\"SHO\",\"SV\",\"IPouts\",\"H\",\"HR\",\"BB\",\"HBP\",\"SO\",\"R\",\"ER\",\"ERA\",\"BFP\"]\n",
    "DERIVED_STATS = [\"WPCT\"]\n",
    "STATS = BASE_STATS + DERIVED_STATS\n",
    "HELPER = set()\n",
    "SOURCE_FILES = {\"MLB\":\"mlb_pitching.csv\",\"KBO\":\"kbo_pitching.csv\",\"NPB\":\"npb_pitching.csv\"}\n",
    "\n",
    "def div(n,d): \n",
    "    return np.where(d!=0, n/d, np.nan)\n",
    "\n",
    "def keep_id_cols(cols):\n",
    "    id_like = {c for c in cols if c.lower().endswith(\"id\")}\n",
    "    extras = {\"playerID\",\"yearID\",\"lgID\",\"teamID\",\"stint\"}\n",
    "    return [c for c in cols if c in id_like or c in extras]\n",
    "\n",
    "def harmonize(df):\n",
    "    df = df.copy()\n",
    "    for c in BASE_STATS: df[c] = df.get(c,0)\n",
    "    if \"WPCT\" not in df.columns:\n",
    "        df[\"WPCT\"] = div(df[\"W\"],df[\"W\"]+df[\"L\"]).round(3)\n",
    "    demo = keep_id_cols(df.columns)\n",
    "    final_cols = list(dict.fromkeys(demo + STATS))\n",
    "    return df[final_cols]\n"
   ]
  },
  {
   "cell_type": "code",
   "execution_count": 4,
   "id": "748e0ba0",
   "metadata": {},
   "outputs": [],
   "source": [
    "for lg,path in SOURCE_FILES.items():\n",
    "    raw = pd.read_csv(path)\n",
    "    tidy = harmonize(raw)\n",
    "    tidy.to_csv(f\"{lg.lower()}_pitching3.csv\",index=False,na_rep=\"\")"
   ]
  }
 ],
 "metadata": {
  "kernelspec": {
   "display_name": "base",
   "language": "python",
   "name": "python3"
  },
  "language_info": {
   "codemirror_mode": {
    "name": "ipython",
    "version": 3
   },
   "file_extension": ".py",
   "mimetype": "text/x-python",
   "name": "python",
   "nbconvert_exporter": "python",
   "pygments_lexer": "ipython3",
   "version": "3.11.5"
  }
 },
 "nbformat": 4,
 "nbformat_minor": 5
}

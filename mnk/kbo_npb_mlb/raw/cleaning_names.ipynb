{
 "cells": [
  {
   "cell_type": "code",
   "execution_count": null,
   "id": "71829614",
   "metadata": {},
   "outputs": [],
   "source": [
    "import pandas as pd\n",
    "from difflib import SequenceMatcher\n",
    "from itertools import combinations\n",
    "\n",
    "def normalize_name(name):\n",
    "    return \"\".join(ch.lower() for ch in name if ch.isalnum())\n",
    "\n",
    "def sim(a, b):\n",
    "    return SequenceMatcher(None, normalize_name(a), normalize_name(b)).ratio()\n"
   ]
  },
  {
   "cell_type": "code",
   "execution_count": null,
   "id": "ca049fed",
   "metadata": {},
   "outputs": [],
   "source": [
    "def compare_leagues(df_a,df_b,tag_a,tag_b,thresh):\n",
    "    merged = df_a.merge(df_b,on=[\"birthYear\", \"birthMonth\", \"birthDay\"],how=\"inner\",suffixes=(f\"_{tag_a}\", f\"_{tag_b}\"))\n",
    "\n",
    "    merged[\"first_sim\"] = merged.apply(lambda r: sim(r[f\"nameFirst_{tag_a}\"], r[f\"nameFirst_{tag_b}\"]), axis=1)\n",
    "    merged[\"last_sim\"] = merged.apply(lambda r: sim(r[f\"nameLast_{tag_a}\"],  r[f\"nameLast_{tag_b}\"]),  axis=1)\n",
    "\n",
    "    mask = (merged[\"first_sim\"] >= thresh) | (merged[\"last_sim\"] >= thresh)\n",
    "    candidates = merged.loc[mask].copy()\n",
    "    candidates[\"pair_type\"] = f\"{tag_a}-{tag_b}\"\n",
    "\n",
    "    columns = [\n",
    "        f\"playerID_{tag_a}\", f\"nameFirst_{tag_a}\", f\"nameLast_{tag_a}\",\n",
    "        f\"playerID_{tag_b}\", f\"nameFirst_{tag_b}\", f\"nameLast_{tag_b}\",\n",
    "        \"birthYear\", \"birthMonth\", \"birthDay\",\n",
    "        \"first_sim\", \"last_sim\", \"pair_type\"\n",
    "    ]\n",
    "    return candidates[columns]\n"
   ]
  },
  {
   "cell_type": "code",
   "execution_count": null,
   "id": "441cf305",
   "metadata": {},
   "outputs": [],
   "source": [
    "mlb = pd.read_csv(\"mlb_people.csv\")\n",
    "npb = pd.read_csv(\"npb_people.csv\")\n",
    "kbo = pd.read_csv(\"kbo_people.csv\")\n",
    "\n",
    "datasets = {\"MLB\": mlb, \"NPB\": npb, \"KBO\": kbo}"
   ]
  },
  {
   "cell_type": "code",
   "execution_count": null,
   "id": "101bf646",
   "metadata": {},
   "outputs": [],
   "source": [
    "datasets = {\"MLB\": mlb, \"NPB\": npb, \"KBO\": kbo}\n",
    "\n",
    "all_pairs = []\n",
    "for (tag_a, df_a), (tag_b, df_b) in combinations(datasets.items(), 2):\n",
    "    all_pairs.append(compare_leagues(df_a, df_b, tag_a, tag_b, thresh=0.40))\n",
    "\n",
    "candidates = pd.concat(all_pairs, ignore_index=True)\n",
    "\n",
    "candidates.to_csv(\"3league_name_candidates.csv\", index=False)"
   ]
  }
 ],
 "metadata": {
  "kernelspec": {
   "display_name": "base",
   "language": "python",
   "name": "python3"
  },
  "language_info": {
   "codemirror_mode": {
    "name": "ipython",
    "version": 3
   },
   "file_extension": ".py",
   "mimetype": "text/x-python",
   "name": "python",
   "nbconvert_exporter": "python",
   "pygments_lexer": "ipython3",
   "version": "3.11.5"
  }
 },
 "nbformat": 4,
 "nbformat_minor": 5
}

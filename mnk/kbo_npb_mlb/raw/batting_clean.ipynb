{
 "cells": [
  {
   "cell_type": "code",
   "execution_count": null,
   "id": "b778afae",
   "metadata": {},
   "outputs": [],
   "source": [
    "import pandas as pd\n",
    "import numpy as np\n",
    "\n",
    "BASE_STATS = [\"G\",\"AB\",\"R\",\"H\",\"2B\",\"3B\",\"HR\",\"RBI\",\"SB\",\"CS\",\"BB\",\"SO\",\"GIDP\"]\n",
    "DERIVED_STATS = [\"PA\",\"TB\",\"AVG\",\"SLG\",\"OBP\",\"OPS\",\"BB_pct\",\"K_pct\"]\n",
    "STATS = BASE_STATS + DERIVED_STATS\n",
    "HELPER = {\"HBP\",\"SH\",\"SF\"}\n",
    "SOURCE_FILES = {\"MLB\":\"mlb_batting.csv\",\"KBO\":\"kbo_batting.csv\",\"NPB\":\"npb_batting.csv\"}\n",
    "\n",
    "def div(n,d):\n",
    "    return np.where(d!=0,n/d,np.nan)\n",
    "\n",
    "def keep_id_cols(cols):\n",
    "    id_like = {c for c in cols if c.lower().endswith(\"id\")}\n",
    "    extras = {\"playerID\",\"yearID\",\"lgID\",\"teamID\",\"stint\"}\n",
    "    return [c for c in cols if c in id_like or c in extras]\n",
    "\n",
    "def harmonize(df):\n",
    "    df = df.copy()\n",
    "        \n",
    "    for c in BASE_STATS: df[c] = df.get(c,0)\n",
    "    for c in HELPER: df[c] = df.get(c,0)\n",
    "    \n",
    "    df[\"PA\"] = df[\"AB\"]+df[\"BB\"]+df[\"HBP\"]+df[\"SH\"]+df[\"SF\"]\n",
    "    singles = df[\"H\"]-df[\"2B\"]-df[\"3B\"]-df[\"HR\"]\n",
    "    df[\"TB\"] = singles + 2*df[\"2B\"] + 3*df[\"3B\"] + 4*df[\"HR\"]\n",
    "    \n",
    "    df[\"AVG\"] = div(df[\"H\"],df[\"AB\"])\n",
    "    df[\"SLG\"] = div(df[\"TB\"],df[\"AB\"])\n",
    "    df[\"OBP\"] = div(df[\"H\"]+df[\"BB\"]+df[\"HBP\"],df[\"AB\"]+df[\"BB\"]+df[\"HBP\"]+df[\"SF\"])\n",
    "    df[\"OPS\"] = df[\"OBP\"]+df[\"SLG\"]\n",
    "    df[\"BB_pct\"] = div(df[\"BB\"],df[\"PA\"])\n",
    "    df[\"K_pct\"] = div(df[\"SO\"],df[\"PA\"])\n",
    "    df[[\"AVG\",\"SLG\",\"OBP\",\"OPS\",\"BB_pct\",\"K_pct\"]] = df[[\"AVG\",\"SLG\",\"OBP\",\"OPS\",\"BB_pct\",\"K_pct\"]].round(3)\n",
    "    \n",
    "    demo = keep_id_cols(df.columns)\n",
    "    final_cols = list(dict.fromkeys(demo + STATS))\n",
    "    return df[final_cols]"
   ]
  },
  {
   "cell_type": "code",
   "execution_count": null,
   "id": "45657463",
   "metadata": {},
   "outputs": [
    {
     "name": "stderr",
     "output_type": "stream",
     "text": [
      "C:\\Users\\Acer\\AppData\\Local\\Temp\\ipykernel_22100\\4239333469.py:45: DtypeWarning: Columns (2) have mixed types. Specify dtype option on import or set low_memory=False.\n",
      "  raw = pd.read_csv(path)\n"
     ]
    }
   ],
   "source": [
    "for lg,path in SOURCE_FILES.items():\n",
    "    raw = pd.read_csv(path)\n",
    "    tidy = harmonize(raw)\n",
    "    tidy.to_csv(f\"{lg.lower()}_batting2.csv\",index=False,na_rep=\"\")"
   ]
  }
 ],
 "metadata": {
  "kernelspec": {
   "display_name": "base",
   "language": "python",
   "name": "python3"
  },
  "language_info": {
   "codemirror_mode": {
    "name": "ipython",
    "version": 3
   },
   "file_extension": ".py",
   "mimetype": "text/x-python",
   "name": "python",
   "nbconvert_exporter": "python",
   "pygments_lexer": "ipython3",
   "version": "3.11.5"
  }
 },
 "nbformat": 4,
 "nbformat_minor": 5
}

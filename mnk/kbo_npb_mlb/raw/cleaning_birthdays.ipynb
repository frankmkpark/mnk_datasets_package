{
 "cells": [
  {
   "cell_type": "code",
   "execution_count": null,
   "id": "3cabf883",
   "metadata": {},
   "outputs": [],
   "source": [
    "import pandas as pd\n",
    "\n",
    "kbo_people = pd.read_csv(\"kbo_people.csv\")\n",
    "mlb_people = pd.read_csv(\"mlb_people.csv\")\n",
    "npb_people = pd.read_csv(\"npb_people.csv\")\n",
    "\n",
    "combined = pd.concat([kbo_people, mlb_people, npb_people], ignore_index=True)\n",
    "grouped = combined.groupby(['birthYear', 'birthMonth', 'nameFirst', 'nameLast'])\n",
    "result = grouped.filter(lambda x: x['birthDay'].nunique() > 1)\n",
    "\n",
    "result.to_csv(\"problem_birthdays_days.csv\", index=False)\n"
   ]
  },
  {
   "cell_type": "code",
   "execution_count": 4,
   "id": "9750f721",
   "metadata": {},
   "outputs": [],
   "source": [
    "import pandas as pd\n",
    "\n",
    "kbo_people = pd.read_csv(\"kbo_people.csv\")\n",
    "mlb_people = pd.read_csv(\"mlb_people.csv\")\n",
    "npb_people = pd.read_csv(\"npb_people.csv\")\n",
    "\n",
    "combined = pd.concat([kbo_people, mlb_people, npb_people], ignore_index=True)\n",
    "grouped = combined.groupby(['birthYear', 'birthDay', 'nameFirst', 'nameLast'])\n",
    "result = grouped.filter(lambda x: x['birthMonth'].nunique() > 1)\n",
    "\n",
    "result.to_csv(\"problem_birthdays_months.csv\", index=False)\n"
   ]
  },
  {
   "cell_type": "code",
   "execution_count": 5,
   "id": "f73cbcec",
   "metadata": {},
   "outputs": [],
   "source": [
    "import pandas as pd\n",
    "\n",
    "kbo_people = pd.read_csv(\"kbo_people.csv\")\n",
    "mlb_people = pd.read_csv(\"mlb_people.csv\")\n",
    "npb_people = pd.read_csv(\"npb_people.csv\")\n",
    "\n",
    "combined = pd.concat([kbo_people, mlb_people, npb_people], ignore_index=True)\n",
    "grouped = combined.groupby(['birthMonth', 'birthDay', 'nameFirst', 'nameLast'])\n",
    "result = grouped.filter(lambda x: x['birthYear'].nunique() > 1)\n",
    "\n",
    "result.to_csv(\"problem_birthdays_years.csv\", index=False)\n"
   ]
  },
  {
   "cell_type": "code",
   "execution_count": 6,
   "id": "feda1e99",
   "metadata": {},
   "outputs": [],
   "source": [
    "import pandas as pd\n",
    "\n",
    "kbo_people = pd.read_csv(\"kbo_people.csv\")\n",
    "mlb_people = pd.read_csv(\"mlb_people.csv\")\n",
    "npb_people = pd.read_csv(\"npb_people.csv\")\n",
    "\n",
    "combined = pd.concat([kbo_people, mlb_people, npb_people], ignore_index=True)\n",
    "grouped = combined.groupby(['birthYear', 'birthMonth', 'birthDay', 'nameLast'])\n",
    "result = grouped.filter(lambda x: x['nameFirst'].nunique() > 1)\n",
    "\n",
    "result.to_csv(\"problem_firstName.csv\", index=False)\n"
   ]
  }
 ],
 "metadata": {
  "kernelspec": {
   "display_name": "base",
   "language": "python",
   "name": "python3"
  },
  "language_info": {
   "codemirror_mode": {
    "name": "ipython",
    "version": 3
   },
   "file_extension": ".py",
   "mimetype": "text/x-python",
   "name": "python",
   "nbconvert_exporter": "python",
   "pygments_lexer": "ipython3",
   "version": "3.11.5"
  }
 },
 "nbformat": 4,
 "nbformat_minor": 5
}

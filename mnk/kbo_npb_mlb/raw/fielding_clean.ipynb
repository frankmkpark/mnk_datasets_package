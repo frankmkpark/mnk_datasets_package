{
 "cells": [
  {
   "cell_type": "code",
   "execution_count": 7,
   "id": "fb7aa407",
   "metadata": {},
   "outputs": [],
   "source": [
    "import pandas as pd\n",
    "import numpy as np\n",
    "\n",
    "BASE_STATS = [\"G\", \"PO\", \"A\", \"E\", \"DP\", \"PB\"]\n",
    "DERIVED_STATS = [\"FP\", \"RF\"]\n",
    "STATS = BASE_STATS + DERIVED_STATS\n",
    "SOURCE_FILES = {\"MLB\": \"mlb_fielding.csv\",\"KBO\": \"kbo_fielding.csv\",\"NPB\": \"npb_fielding.csv\"}\n",
    "\n",
    "def div(n, d):\n",
    "    return np.where(d != 0, n / d, np.nan)\n",
    "\n",
    "def keep_id_cols(cols):\n",
    "    id_like = {c for c in cols if c.lower().endswith(\"id\")}\n",
    "    extras = {\"playerID\", \"yearID\", \"lgID\", \"teamID\", \"POS\", \"stint\"}\n",
    "    return [c for c in cols if c in id_like or c in extras]\n",
    "\n",
    "def harmonize(df):\n",
    "    df = df.copy()\n",
    "    if \"FPCT\" in df.columns:\n",
    "        df = df.rename(columns={\"FPCT\": \"FP\"})\n",
    "        \n",
    "    for c in BASE_STATS:\n",
    "        df[c] = df.get(c, 0)\n",
    "        \n",
    "    df[\"FP\"] = div(df[\"PO\"] + df[\"A\"], df[\"PO\"] + df[\"A\"] + df[\"E\"])\n",
    "    df[\"RF\"] = div(df[\"PO\"] + df[\"A\"], df[\"G\"])\n",
    "    df[[\"FP\", \"RF\"]] = df[[\"FP\", \"RF\"]].round(3)\n",
    "    final_cols = list(dict.fromkeys(keep_id_cols(df.columns) + STATS))\n",
    "    \n",
    "    return df[final_cols]\n"
   ]
  },
  {
   "cell_type": "code",
   "execution_count": null,
   "id": "0b7a1bf9",
   "metadata": {},
   "outputs": [],
   "source": [
    "for lg, path in SOURCE_FILES.items():\n",
    "    raw = pd.read_csv(path)\n",
    "    tidy = harmonize(raw)\n",
    "    tidy.to_csv(f\"{lg.lower()}_fielding2.csv\", index=False, na_rep=\"\")"
   ]
  }
 ],
 "metadata": {
  "kernelspec": {
   "display_name": "base",
   "language": "python",
   "name": "python3"
  },
  "language_info": {
   "codemirror_mode": {
    "name": "ipython",
    "version": 3
   },
   "file_extension": ".py",
   "mimetype": "text/x-python",
   "name": "python",
   "nbconvert_exporter": "python",
   "pygments_lexer": "ipython3",
   "version": "3.11.5"
  }
 },
 "nbformat": 4,
 "nbformat_minor": 5
}

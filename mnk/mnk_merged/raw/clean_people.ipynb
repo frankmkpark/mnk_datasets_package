{
 "cells": [
  {
   "cell_type": "code",
   "execution_count": null,
   "id": "e2b279d1",
   "metadata": {},
   "outputs": [],
   "source": [
    "import pandas as pd, numpy as np\n",
    "\n",
    "def detect_origin(r):\n",
    "    for c in (\"kbo_birthCountry\", \"npb_birthCountry\", \"mlb_birthCountry\"):\n",
    "        v = r.get(c)\n",
    "        if pd.notna(v):\n",
    "            v = str(v).lower()\n",
    "            if \"korea\" in v: return \"Korea\"\n",
    "            if \"japan\" in v: return \"Japan\"\n",
    "    return \"Other\"\n",
    "\n",
    "def choose(r, field):\n",
    "    pref = {\n",
    "        \"Korea\": [\"kbo_\"+field, \"npb_\"+field, \"mlb_\"+field],\n",
    "        \"Japan\": [\"npb_\"+field, \"kbo_\"+field, \"mlb_\"+field],\n",
    "        \"Other\": [\"mlb_\"+field, \"npb_\"+field, \"kbo_\"+field],\n",
    "    }[r[\"origin\"]]\n",
    "    for c in pref:\n",
    "        v = r.get(c)\n",
    "        if pd.notna(v): return v\n",
    "    return np.nan\n",
    "\n",
    "def first_non_null(s):\n",
    "    s = s.dropna()\n",
    "    return s.iloc[0] if not s.empty else np.nan\n"
   ]
  },
  {
   "cell_type": "code",
   "execution_count": null,
   "id": "60e05a34",
   "metadata": {},
   "outputs": [],
   "source": [
    "weights = [\"mlb_weight\", \"npb_weight\", \"kbo_weight\"]\n",
    "ht = [\"mlb_height\", \"npb_height\", \"kbo_height\"]\n",
    "bats  = [\"mlb_bats\", \"npb_bats\", \"kbo_bats\"]\n",
    "throws = [\"mlb_throws\", \"npb_throws\", \"kbo_throws\"]\n",
    "\n",
    "df = pd.read_csv(\"mnk_people.csv\")\n",
    "df[weights] = df[weights].replace({0: np.nan, \"0.0\": np.nan})\n",
    "\n",
    "agg = {\n",
    "    \"mlb_playerID\": first_non_null,\n",
    "    \"npb_playerID\": first_non_null,\n",
    "    \"kbo_playerID\": first_non_null,\n",
    "    \"birthYear\": \"first\",\n",
    "    \"birthMonth\": \"first\",\n",
    "    \"birthDay\": \"first\",\n",
    "    \"nameLast\": \"first\",\n",
    "    \"nameFirst\": \"first\",\n",
    "    **{c: first_non_null for c in weights + ht + bats + throws +\n",
    "       [\"mlb_birthCountry\", \"npb_birthCountry\", \"kbo_birthCountry\"]}\n",
    "}\n",
    "\n",
    "df = df.groupby(\"mnkID\", as_index=False).agg(agg)\n",
    "\n",
    "league_cnt = df[[\"mlb_playerID\", \"npb_playerID\", \"kbo_playerID\"]].notna().sum(axis=1)\n",
    "multi = league_cnt > 1\n",
    "\n",
    "rep = df[weights].bfill(axis=1).ffill(axis=1).iloc[:, 0]\n",
    "for w in weights:\n",
    "    m = multi & df[w].isna()\n",
    "    df.loc[m, w] = rep[m]\n",
    "\n",
    "df[\"origin\"] = df.apply(detect_origin, axis=1)\n",
    "for f in (\"height\", \"bats\", \"throws\"):\n",
    "    df[f] = df.apply(lambda r: choose(r, f), axis=1)\n",
    "\n",
    "df[\"nameFull\"] = (\n",
    "    df[\"nameFirst\"].fillna(\"\").str.strip() + \" \" +\n",
    "    df[\"nameLast\"].fillna(\"\").str.strip()).str.strip()\n",
    "\n",
    "out = (\n",
    "    df.rename(columns={\"mnkID\": \"playerID\"})\n",
    "      .loc[:, [\n",
    "          \"playerID\", \"mlb_playerID\", \"npb_playerID\", \"kbo_playerID\",\n",
    "          \"birthYear\", \"birthMonth\", \"birthDay\",\n",
    "          \"nameLast\", \"nameFirst\", \"nameFull\",\n",
    "          \"mlb_weight\", \"npb_weight\", \"kbo_weight\",\n",
    "          \"height\", \"bats\", \"throws\"\n",
    "      ]]\n",
    "      .sort_values(\"playerID\"))\n",
    "\n",
    "out.to_csv(\"mnk_people2.csv\", index=False, na_rep=\"\")\n"
   ]
  },
  {
   "cell_type": "code",
   "execution_count": 6,
   "id": "cef6490b",
   "metadata": {},
   "outputs": [
    {
     "name": "stderr",
     "output_type": "stream",
     "text": [
      "C:\\Users\\Acer\\AppData\\Local\\Temp\\ipykernel_25624\\271331777.py:3: DtypeWarning: Columns (1) have mixed types. Specify dtype option on import or set low_memory=False.\n",
      "  batting = pd.read_csv(\"mnk_batting.csv\")\n"
     ]
    }
   ],
   "source": [
    "# Batting\n",
    "people = pd.read_csv(\"mnk_people.csv\")\n",
    "batting = pd.read_csv(\"mnk_batting.csv\") \n",
    "\n",
    "lookup = {}\n",
    "for _, r in people.iterrows():\n",
    "    if pd.notna(r[\"mlb_playerID\"]): lookup[r[\"mlb_playerID\"]] = r[\"playerID\"]\n",
    "    if pd.notna(r[\"npb_playerID\"]): lookup[r[\"npb_playerID\"]] = r[\"playerID\"]\n",
    "    if pd.notna(r[\"kbo_playerID\"]): lookup[r[\"kbo_playerID\"]] = r[\"playerID\"]\n",
    "\n",
    "leagues = [\"mlb_playerID\", \"npb_playerID\", \"kbo_playerID\"]"
   ]
  },
  {
   "cell_type": "code",
   "execution_count": null,
   "id": "8c095cc7",
   "metadata": {},
   "outputs": [],
   "source": [
    "def resolve_pid(row):\n",
    "    if pd.notna(row[\"playerID\"]) and row[\"playerID\"] != \"\": \n",
    "        return row[\"playerID\"]\n",
    "    for c in leagues:\n",
    "        key = row.get(c)\n",
    "        if pd.notna(key) and key in lookup:\n",
    "            return lookup[key]\n",
    "    return np.nan\n",
    "\n",
    "batting[\"playerID\"] = batting.apply(resolve_pid, axis=1)\n",
    "\n",
    "batting.to_csv(\"mnk_batting2.csv\", index=False, na_rep=\"\")"
   ]
  },
  {
   "cell_type": "code",
   "execution_count": null,
   "id": "b4e0e15f",
   "metadata": {},
   "outputs": [
    {
     "name": "stderr",
     "output_type": "stream",
     "text": [
      "C:\\Users\\Acer\\AppData\\Local\\Temp\\ipykernel_25624\\3705372588.py:2: DtypeWarning: Columns (1,23) have mixed types. Specify dtype option on import or set low_memory=False.\n",
      "  pitching = pd.read_csv(\"mnk_pitching.csv\")\n"
     ]
    }
   ],
   "source": [
    "# Pitching\n",
    "pitching = pd.read_csv(\"mnk_pitching.csv\") \n",
    "pitching[\"playerID\"] = pitching.apply(resolve_pid, axis=1)\n",
    "pitching.to_csv(\"mnk_pitching2.csv\", index=False, na_rep=\"\")"
   ]
  },
  {
   "cell_type": "code",
   "execution_count": 11,
   "id": "7923870b",
   "metadata": {},
   "outputs": [
    {
     "name": "stderr",
     "output_type": "stream",
     "text": [
      "C:\\Users\\Acer\\AppData\\Local\\Temp\\ipykernel_25624\\4179725362.py:2: DtypeWarning: Columns (1) have mixed types. Specify dtype option on import or set low_memory=False.\n",
      "  fielding = pd.read_csv(\"mnk_fielding.csv\")\n"
     ]
    }
   ],
   "source": [
    "# Fielding\n",
    "fielding = pd.read_csv(\"mnk_fielding.csv\") \n",
    "fielding[\"playerID\"] = fielding.apply(resolve_pid, axis=1)\n",
    "fielding.to_csv(\"mnk_fielding2.csv\", index=False, na_rep=\"\")"
   ]
  }
 ],
 "metadata": {
  "kernelspec": {
   "display_name": "base",
   "language": "python",
   "name": "python3"
  },
  "language_info": {
   "codemirror_mode": {
    "name": "ipython",
    "version": 3
   },
   "file_extension": ".py",
   "mimetype": "text/x-python",
   "name": "python",
   "nbconvert_exporter": "python",
   "pygments_lexer": "ipython3",
   "version": "3.11.5"
  }
 },
 "nbformat": 4,
 "nbformat_minor": 5
}

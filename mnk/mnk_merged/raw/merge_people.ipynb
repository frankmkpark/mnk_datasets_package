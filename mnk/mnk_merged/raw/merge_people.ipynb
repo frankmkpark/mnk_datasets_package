{
 "cells": [
  {
   "cell_type": "code",
   "execution_count": 1,
   "id": "5b55366b",
   "metadata": {},
   "outputs": [],
   "source": [
    "import pandas as pd, re\n",
    "\n",
    "def norm_name(s):\n",
    "    return re.sub(r\"[^a-z0-9]\", \"\", str(s).lower())"
   ]
  },
  {
   "cell_type": "code",
   "execution_count": 2,
   "id": "7da8a7ba",
   "metadata": {},
   "outputs": [],
   "source": [
    "def canon_id(x): # 104799.0 → 104799\n",
    "    s = str(x).strip()\n",
    "    return s[:-2] if s.endswith(\".0\") else s"
   ]
  },
  {
   "cell_type": "code",
   "execution_count": 3,
   "id": "d1083869",
   "metadata": {},
   "outputs": [],
   "source": [
    "def person_key(row):\n",
    "    parts = [\n",
    "        str(row[\"birthYear\"]) if pd.notna(row[\"birthYear\"]) else \"\",\n",
    "        str(row[\"birthMonth\"]) if pd.notna(row[\"birthMonth\"]) else \"\",\n",
    "        str(row[\"birthDay\"]) if pd.notna(row[\"birthDay\"])else \"\",\n",
    "        norm_name(row[\"nameFirst\"]), norm_name(row[\"nameLast\"]),\n",
    "    ]\n",
    "    key = \"-\".join(parts)\n",
    "    return key if \"\" not in parts else key + \"-\" + canon_id(row[\"playerID\"])"
   ]
  },
  {
   "cell_type": "code",
   "execution_count": 4,
   "id": "401231a9",
   "metadata": {},
   "outputs": [],
   "source": [
    "def prep(path, tag):\n",
    "    df = pd.read_csv(path, dtype=str)\n",
    "    for c in [\"birthYear\", \"birthMonth\", \"birthDay\"]:\n",
    "        df[c] = pd.to_numeric(df[c], errors=\"coerce\").astype(\"Int64\")\n",
    "    df[\"playerID\"] = df[\"playerID\"].map(canon_id)\n",
    "    df[\"person_key\"] = df.apply(person_key, axis=1)\n",
    "\n",
    "    base = [\"playerID\",\"birthCountry\",\"weight\",\"height\",\"bats\",\"throws\", \"nameFirst\",\"nameLast\"]\n",
    "    ren = {c: f\"{tag}_{c}\" for c in base}\n",
    "    ren[\"playerID\"] = f\"{tag.lower()}_playerID\"\n",
    "    return df[[\"person_key\"] + base].rename(columns=ren)"
   ]
  },
  {
   "cell_type": "code",
   "execution_count": 5,
   "id": "fcc788ab",
   "metadata": {},
   "outputs": [],
   "source": [
    "mlb = prep(\"mlb_people.csv\", \"mlb\")\n",
    "npb = prep(\"npb_people.csv\", \"npb\")\n",
    "kbo = prep(\"kbo_people.csv\", \"kbo\")\n",
    "\n",
    "merged = (mlb.merge(npb, on=\"person_key\", how=\"outer\").merge(kbo, on=\"person_key\", how=\"outer\"))"
   ]
  },
  {
   "cell_type": "code",
   "execution_count": 6,
   "id": "20f9763d",
   "metadata": {},
   "outputs": [],
   "source": [
    "take_first = lambda *v: next((x.title() for x in v if pd.notna(x) and x != \"\"), \"\")\n",
    "merged[\"nameFirst\"] = merged.apply(lambda r: take_first(r.get(\"mlb_nameFirst\"), r.get(\"npb_nameFirst\"), r.get(\"kbo_nameFirst\")), axis=1)\n",
    "merged[\"nameLast\"] = merged.apply(lambda r: take_first(r.get(\"mlb_nameLast\"),  r.get(\"npb_nameLast\"),  r.get(\"kbo_nameLast\")),  axis=1)\n",
    "\n",
    "parts = merged[\"person_key\"].str.split(\"-\", expand=True)\n",
    "merged[\"birthYear\"] = pd.to_numeric(parts[0], errors=\"coerce\").astype(\"Int64\")\n",
    "merged[\"birthMonth\"] = pd.to_numeric(parts[1], errors=\"coerce\").astype(\"Int64\")\n",
    "merged[\"birthDay\"] = pd.to_numeric(parts[2], errors=\"coerce\").astype(\"Int64\")"
   ]
  },
  {
   "cell_type": "code",
   "execution_count": 7,
   "id": "5d6f1e34",
   "metadata": {},
   "outputs": [],
   "source": [
    "lead = [\"mlb_playerID\",\"kbo_playerID\",\"npb_playerID\"]\n",
    "core = [\"birthYear\",\"birthMonth\",\"birthDay\",\"nameFirst\",\"nameLast\"]\n",
    "others = [c for c in merged.columns if c not in lead + core + [\"person_key\"]]\n",
    "merged = merged[lead + core + others]"
   ]
  },
  {
   "cell_type": "code",
   "execution_count": 8,
   "id": "60592bb9",
   "metadata": {},
   "outputs": [
    {
     "name": "stdout",
     "output_type": "stream",
     "text": [
      "merged rows : 30532\n",
      "≥2-league : 1492\n"
     ]
    }
   ],
   "source": [
    "merged.to_csv(\"mnk_people5.csv\", index=False)\n",
    "merged.dropna(subset=lead, thresh=2).to_csv(\"merged_player_records3=5.csv\", index=False)\n",
    "\n",
    "print(\"merged rows :\", len(merged))\n",
    "print(\"≥2-league :\", len(merged.dropna(subset=lead, thresh=2)))"
   ]
  }
 ],
 "metadata": {
  "kernelspec": {
   "display_name": "base",
   "language": "python",
   "name": "python3"
  },
  "language_info": {
   "codemirror_mode": {
    "name": "ipython",
    "version": 3
   },
   "file_extension": ".py",
   "mimetype": "text/x-python",
   "name": "python",
   "nbconvert_exporter": "python",
   "pygments_lexer": "ipython3",
   "version": "3.11.5"
  }
 },
 "nbformat": 4,
 "nbformat_minor": 5
}

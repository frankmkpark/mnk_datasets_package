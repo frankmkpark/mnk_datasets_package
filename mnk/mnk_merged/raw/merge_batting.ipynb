{
 "cells": [
  {
   "cell_type": "code",
   "execution_count": null,
   "id": "44b985ec",
   "metadata": {},
   "outputs": [],
   "source": [
    "import pandas as pd\n",
    "import re\n",
    "\n",
    "def standardize(pid):\n",
    "    if pd.isna(pid):\n",
    "        return None\n",
    "    s = str(pid).strip()\n",
    "    return s[:-2] if s.endswith(\".0\") else s"
   ]
  },
  {
   "cell_type": "code",
   "execution_count": null,
   "id": "98430220",
   "metadata": {},
   "outputs": [],
   "source": [
    "people = pd.read_csv(\"mnk_people5.csv\", dtype={\"mlb_playerID\":\"string\", \"npb_playerID\":\"string\", \"kbo_playerID\":\"string\"})\n",
    "\n",
    "if \"merge_key\" not in people.columns:\n",
    "    def nm(x): return re.sub(r\"[^a-z]\", \"\", str(x).lower())\n",
    "    people[\"merge_key\"] = (\n",
    "        people[\"birthYear\"].fillna(-1).astype(int).astype(str).str.zfill(4) +\n",
    "        people[\"birthMonth\"].fillna(-1).astype(int).astype(str).str.zfill(2) +\n",
    "        people[\"birthDay\"].fillna(-1).astype(int).astype(str).str.zfill(2) +\n",
    "        people[\"nameFirst\"].map(nm) + people[\"nameLast\"].map(nm))\n",
    "\n",
    "id2key = {}\n",
    "for _, r in people.iterrows():\n",
    "    if pd.notna(r[\"mlb_playerID\"]):\n",
    "        id2key[standardize(r[\"mlb_playerID\"])] = r[\"merge_key\"]\n",
    "    if pd.notna(r[\"npb_playerID\"]):\n",
    "        id2key[standardize(r[\"npb_playerID\"])] = r[\"merge_key\"]\n",
    "    if pd.notna(r[\"kbo_playerID\"]):\n",
    "        id2key[standardize(r[\"kbo_playerID\"])] = r[\"merge_key\"]"
   ]
  },
  {
   "cell_type": "code",
   "execution_count": null,
   "id": "ee3e95ee",
   "metadata": {},
   "outputs": [],
   "source": [
    "def load_and_index(path):\n",
    "    df = pd.read_csv(path, dtype={\"playerID\":\"string\"})\n",
    "    df[\"standard_id\"] = df[\"playerID\"].map(standardize)\n",
    "    return {pid: sub.sort_values([\"yearID\",\"stint\"]).reset_index(drop=True) for pid, sub in df.groupby(\"standard_id\")}\n",
    "\n",
    "bat_idx = {\"MLB\": load_and_index(\"mlb_batting.csv\"),\"NPB\": load_and_index(\"npb_batting.csv\"),\"KBO\": load_and_index(\"kbo_batting.csv\"),}\n",
    "\n",
    "meta_cols = [\"playerID\",\"yearID\",\"stint\",\"lgID\",\"teamID\"]\n",
    "stat_cols = [c for c in next(iter(bat_idx[\"MLB\"].values())).columns if c not in meta_cols + [\"standard_id\"]]"
   ]
  },
  {
   "cell_type": "code",
   "execution_count": null,
   "id": "f9ce0eb5",
   "metadata": {},
   "outputs": [],
   "source": [
    "tables = []\n",
    "\n",
    "for _, p in people.iterrows():\n",
    "    bundles = []\n",
    "\n",
    "    pid = standardize(p[\"mlb_playerID\"])\n",
    "    if pid and pid in bat_idx[\"MLB\"]:\n",
    "        df = bat_idx[\"MLB\"][pid].copy()\n",
    "        df[[\"mlb_playerID\",\"npb_playerID\",\"kbo_playerID\"]] = [pid,\"\",\"\"]\n",
    "        bundles.append(df)\n",
    "\n",
    "    pid = standardize(p[\"npb_playerID\"])\n",
    "    if pid and pid in bat_idx[\"NPB\"]:\n",
    "        df = bat_idx[\"NPB\"][pid].copy()\n",
    "        df[[\"mlb_playerID\",\"npb_playerID\",\"kbo_playerID\"]] = [\"\",pid,\"\"]\n",
    "        bundles.append(df)\n",
    "\n",
    "    pid = standardize(p[\"kbo_playerID\"])\n",
    "    if pid and pid in bat_idx[\"KBO\"]:\n",
    "        df = bat_idx[\"KBO\"][pid].copy()\n",
    "        df[[\"mlb_playerID\",\"npb_playerID\",\"kbo_playerID\"]] = [\"\",\"\",pid]\n",
    "        bundles.append(df)\n",
    "\n",
    "    if bundles:\n",
    "        career = (pd.concat(bundles, ignore_index=True).sort_values([\"yearID\",\"stint\"]).reset_index(drop=True))\n",
    "\n",
    "        # transition\n",
    "        trans = [1]\n",
    "        for i in range(1, len(career)):\n",
    "            trans.append(trans[-1] + (career.loc[i,\"lgID\"] != career.loc[i-1,\"lgID\"]))\n",
    "        career[\"transition_indicator\"] = trans\n",
    "\n",
    "        tables.append(career)"
   ]
  },
  {
   "cell_type": "code",
   "execution_count": 5,
   "id": "23f77067",
   "metadata": {},
   "outputs": [
    {
     "name": "stdout",
     "output_type": "stream",
     "text": [
      "169,538 rows\n"
     ]
    }
   ],
   "source": [
    "if not tables:\n",
    "    print(\"ERROR\")\n",
    "else:\n",
    "    merged = pd.concat(tables, ignore_index=True)\n",
    "\n",
    "    ordered = [\"mlb_playerID\",\"npb_playerID\",\"kbo_playerID\",\"yearID\",\"stint\",\"lgID\",\"teamID\",\"transition_indicator\"] + stat_cols\n",
    "    merged = merged.reindex(columns=ordered, fill_value=\"\")\n",
    "\n",
    "    merged.to_csv(\"mnk_batting5.csv\", index=False)\n",
    "    print(f\"{len(merged):,} rows\")"
   ]
  },
  {
   "cell_type": "code",
   "execution_count": 6,
   "id": "8769c4a4",
   "metadata": {},
   "outputs": [
    {
     "name": "stdout",
     "output_type": "stream",
     "text": [
      "set()\n",
      "set()\n",
      "set()\n"
     ]
    }
   ],
   "source": [
    "people = pd.read_csv(\"mnk_people5.csv\", dtype=str)[[\"mlb_playerID\",\"npb_playerID\",\"kbo_playerID\"]].melt()\n",
    "known_ids = set(people[\"value\"].dropna().str.rstrip(\".0\"))\n",
    "\n",
    "def missing_ids(bat_csv):\n",
    "    df = pd.read_csv(bat_csv, usecols=[\"playerID\"], dtype=str)\n",
    "    df[\"playerID\"] = df[\"playerID\"].str.rstrip(\".0\")\n",
    "    return set(df[\"playerID\"]) - known_ids\n",
    "\n",
    "print(missing_ids(\"mlb_batting.csv\"))\n",
    "print(missing_ids(\"npb_batting.csv\"))\n",
    "print(missing_ids(\"kbo_batting.csv\"))"
   ]
  }
 ],
 "metadata": {
  "kernelspec": {
   "display_name": "base",
   "language": "python",
   "name": "python3"
  },
  "language_info": {
   "codemirror_mode": {
    "name": "ipython",
    "version": 3
   },
   "file_extension": ".py",
   "mimetype": "text/x-python",
   "name": "python",
   "nbconvert_exporter": "python",
   "pygments_lexer": "ipython3",
   "version": "3.11.5"
  }
 },
 "nbformat": 4,
 "nbformat_minor": 5
}

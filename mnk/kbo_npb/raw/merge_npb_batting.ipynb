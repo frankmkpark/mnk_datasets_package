{
 "cells": [
  {
   "cell_type": "code",
   "execution_count": 25,
   "id": "e8d2706e",
   "metadata": {},
   "outputs": [
    {
     "name": "stderr",
     "output_type": "stream",
     "text": [
      "C:\\Users\\Acer\\AppData\\Local\\Temp\\ipykernel_16952\\118141001.py:8: DtypeWarning: Columns (1) have mixed types. Specify dtype option on import or set low_memory=False.\n",
      "  stats  = pd.read_csv(f_stats)\n"
     ]
    }
   ],
   "source": [
    "import pandas as pd\n",
    "from pathlib import Path\n",
    "\n",
    "f_stats  = Path(\"npbstats_batting_with_stint.csv\")\n",
    "f_jp = Path(\"npb.jp_Batting_with_stint.csv\")\n",
    "f_people = Path(\"npb_People_combined_cleaned.csv\")\n",
    "\n",
    "stats  = pd.read_csv(f_stats)\n",
    "jp = pd.read_csv(f_jp)\n",
    "people = pd.read_csv(f_people)"
   ]
  },
  {
   "cell_type": "code",
   "execution_count": 26,
   "id": "ae51fd42",
   "metadata": {},
   "outputs": [],
   "source": [
    "def clean(series: pd.Series) -> pd.Series:\n",
    "    return (series.astype(\"string\").str.strip().str.replace(r\"\\.0$\", \"\", regex=True).replace({\"nan\": pd.NA}))\n",
    "\n",
    "for df, col in [\n",
    "    (stats,\"SearchID\"), (stats,\"Player ID\"),\n",
    "    (jp, \"SearchID\"), (jp,\"Player ID\"),\n",
    "    (people,\"SearchID\"),(people,\"Player ID\")]:\n",
    "    if col in df.columns:\n",
    "        df[col] = clean(df[col])"
   ]
  },
  {
   "cell_type": "code",
   "execution_count": null,
   "id": "b0a128cc",
   "metadata": {},
   "outputs": [],
   "source": [
    "# Player-ID → SearchID\n",
    "pid2sid = (people[[\"Player ID\",\"SearchID\"]].dropna().drop_duplicates(\"Player ID\", keep=\"first\"))\n",
    "\n",
    "# SearchID → Player-ID\n",
    "sid2pid = (people[[\"SearchID\",\"Player ID\"]].dropna().drop_duplicates(\"SearchID\", keep=\"first\"))\n",
    "\n",
    "jp = jp.merge(pid2sid, on=\"Player ID\", how=\"left\", suffixes=(\"\", \"_map\"))\n",
    "\n",
    "if \"SearchID_map\" in jp.columns:\n",
    "    jp[\"SearchID\"] = jp[\"SearchID\"].fillna(jp[\"SearchID_map\"])\n",
    "    jp.drop(columns=\"SearchID_map\", inplace=True) \n",
    "\n",
    "stats = stats.merge(sid2pid, on=\"SearchID\", how=\"left\", suffixes=(\"\", \"_map\"))\n",
    "\n",
    "if \"Player ID_map\" in stats.columns:\n",
    "    stats[\"Player ID\"] = stats[\"Player ID\"].fillna(stats[\"Player ID_map\"])\n",
    "    stats.drop(columns=\"Player ID_map\", inplace=True)\n",
    "\n",
    "for df in (stats, jp):\n",
    "    df[\"Team\"] = (df[\"Team\"].astype(\"string\").str.strip().str.upper())\n",
    "\n",
    "dup_cols = [\"Year\", \"G\", \"PA\", \"AB\", \"R\", \"H\", \"2B\", \"3B\", \"HR\", \"TB\", \"RBI\", \"SB\"]"
   ]
  },
  {
   "cell_type": "code",
   "execution_count": 28,
   "id": "5a0a08a4",
   "metadata": {},
   "outputs": [],
   "source": [
    "def make_key(df):\n",
    "    return (df[dup_cols].fillna(\"\").astype(\"string\").agg(\"|\".join, axis=1))\n",
    "\n",
    "stats[\"__dupkey__\"] = make_key(stats)\n",
    "jp[\"__dupkey__\"] = make_key(jp)\n",
    "jp = jp[~jp[\"__dupkey__\"].isin(set(stats[\"__dupkey__\"]))]\n",
    "\n",
    "\n",
    "merged = (pd.concat([stats, jp], ignore_index=True).drop(columns=\"__dupkey__\"))\n",
    "need_sid = merged[\"SearchID\"].isna()\n",
    "if need_sid.any():\n",
    "    merged.loc[need_sid, \"SearchID\"] = (merged.loc[need_sid, \"Player ID\"].map(pid2sid.set_index(\"Player ID\")[\"SearchID\"]))\n"
   ]
  },
  {
   "cell_type": "code",
   "execution_count": 29,
   "id": "8471a7ff",
   "metadata": {},
   "outputs": [
    {
     "name": "stdout",
     "output_type": "stream",
     "text": [
      "Check 422\n"
     ]
    }
   ],
   "source": [
    "still_missing = merged[\"SearchID\"].isna().sum()\n",
    "if still_missing:\n",
    "    print(f\"Check {still_missing}\")\n",
    "\n",
    "merged[\"__sid_num\"] = pd.to_numeric(merged[\"SearchID\"], errors=\"coerce\")\n",
    "merged = (merged.sort_values([\"__sid_num\",\"Year\",\"Team\",\"Stint\"]).drop(columns=\"__sid_num\").reset_index(drop=True))\n",
    "out_file = \"npb_batting_merged10_test.csv\"\n",
    "merged.to_csv(out_file, index=False)"
   ]
  },
  {
   "cell_type": "code",
   "execution_count": null,
   "id": "fefbf92d",
   "metadata": {},
   "outputs": [],
   "source": [
    "import pandas as pd\n",
    "from pathlib import Path\n",
    "\n",
    "INPUT_FILE = Path(\"npb_batting_merged10.csv\")\n",
    "OUTPUT_FILE = INPUT_FILE.with_name(INPUT_FILE.stem + \"all_filled.csv\")\n",
    "\n",
    "df = pd.read_csv(INPUT_FILE, low_memory=False)\n",
    "\n",
    "team2league = (df[df[\"League\"].isin([\"CL\", \"PL\"])].groupby([\"Team\", \"League\"]).size().unstack(fill_value=0).idxmax(axis=1).to_dict())\n",
    "\n",
    "blank_mask = df[\"League\"].isna() | (df[\"League\"].astype(str).str.strip() == \"\")\n",
    "df.loc[blank_mask, \"League\"] = df.loc[blank_mask, \"Team\"].map(team2league)\n",
    "\n",
    "still_blank = df[\"League\"].isna() | (df[\"League\"].astype(str).str.strip() == \"\")\n",
    "print(still_blank)\n",
    "\n",
    "df.to_csv(OUTPUT_FILE, index=False)"
   ]
  }
 ],
 "metadata": {
  "kernelspec": {
   "display_name": "base",
   "language": "python",
   "name": "python3"
  },
  "language_info": {
   "codemirror_mode": {
    "name": "ipython",
    "version": 3
   },
   "file_extension": ".py",
   "mimetype": "text/x-python",
   "name": "python",
   "nbconvert_exporter": "python",
   "pygments_lexer": "ipython3",
   "version": "3.11.5"
  }
 },
 "nbformat": 4,
 "nbformat_minor": 5
}

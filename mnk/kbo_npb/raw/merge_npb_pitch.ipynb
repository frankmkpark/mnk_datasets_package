{
 "cells": [
  {
   "cell_type": "code",
   "execution_count": null,
   "id": "e8d2706e",
   "metadata": {},
   "outputs": [
    {
     "name": "stderr",
     "output_type": "stream",
     "text": [
      "C:\\Users\\Acer\\AppData\\Local\\Temp\\ipykernel_22280\\1320520900.py:9: DtypeWarning: Columns (1) have mixed types. Specify dtype option on import or set low_memory=False.\n",
      "  stats  = pd.read_csv(f_stats)\n"
     ]
    }
   ],
   "source": [
    "import pandas as pd\n",
    "from pathlib import Path\n",
    "\n",
    "f_stats = Path(\"npbstats_pitching_with_stint.csv\")\n",
    "f_jp  = Path(\"npb.jp_Pitching_with_stint.csv\")\n",
    "f_people = Path(\"npb_People_combined_cleaned.csv\")\n",
    "out_file = Path(\"#######3.csv\")\n",
    "\n",
    "stats  = pd.read_csv(f_stats)\n",
    "jp = pd.read_csv(f_jp)\n",
    "people = pd.read_csv(f_people)\n"
   ]
  },
  {
   "cell_type": "code",
   "execution_count": null,
   "id": "05055310",
   "metadata": {},
   "outputs": [],
   "source": [
    "\n",
    "def clean_ids(s: pd.Series) -> pd.Series:\n",
    "    return (s.astype(\"string\").str.strip().str.replace(r\"\\.0$\", \"\", regex=True).replace({\"nan\": pd.NA}))\n",
    "\n",
    "for df, col in [\n",
    "    (stats, \"SearchID\"), (stats, \"Player ID\"),\n",
    "    (jp, \"Player ID\"),\n",
    "    (people,\"SearchID\"), (people,\"Player ID\")]:\n",
    "    if col in df.columns:\n",
    "        df[col] = clean_ids(df[col])\n",
    "\n",
    "jp[\"SearchID\"] = jp.get(\"SearchID\", pd.Series(pd.NA, index=jp.index))\n",
    "stats[\"Player ID\"] = stats.get(\"Player ID\", pd.Series(pd.NA, index=stats.index))\n",
    "\n",
    "pid2sid = (people.dropna(subset=[\"Player ID\",\"SearchID\"]).drop_duplicates(\"Player ID\").set_index(\"Player ID\")[\"SearchID\"])\n",
    "sid2pid = (people.dropna(subset=[\"SearchID\",\"Player ID\"]).drop_duplicates(\"SearchID\").set_index(\"SearchID\")[\"Player ID\"])\n",
    "\n",
    "jp[\"SearchID\"] = jp[\"SearchID\"].fillna(jp[\"Player ID\"].map(pid2sid))\n",
    "stats[\"Player ID\"] = stats[\"Player ID\"].fillna(stats[\"SearchID\"].map(sid2pid))\n",
    "\n",
    "for df in (stats, jp):\n",
    "    df[\"Team\"] = df[\"Team\"].astype(\"string\").str.upper().str.strip()\n",
    "\n",
    "metric_cols = [\"G\",\"W\",\"L\",\"BF\",\"BB\",\"SV\",\"CG\",\"H\",\"HR\",\"R\",\"SO\"]\n"
   ]
  },
  {
   "cell_type": "code",
   "execution_count": null,
   "id": "caa3741d",
   "metadata": {},
   "outputs": [],
   "source": [
    "def norm_num(col: pd.Series) -> pd.Series:\n",
    "    num = pd.to_numeric(col, errors=\"coerce\")\n",
    "    return num.apply(lambda x: \"\" if pd.isna(x) else str(int(x)))\n",
    "\n",
    "def make_key(df: pd.DataFrame) -> pd.Series:\n",
    "    cid = df[\"SearchID\"].fillna(df[\"Player ID\"]).astype(\"string\").str.zfill(7)\n",
    "    yr_team_st = (df[\"Year\"].astype(\"string\") + \"|\" + df[\"Team\"] + \"|\" +norm_num(df[\"stint\"]))\n",
    "    metrics = (df[metric_cols].apply(norm_num).agg(\"|\".join, axis=1))\n",
    "    return cid + \"|\" + yr_team_st + \"|\" + metrics"
   ]
  },
  {
   "cell_type": "code",
   "execution_count": null,
   "id": "e247e979",
   "metadata": {},
   "outputs": [],
   "source": [
    "stats[\"__key__\"] = make_key(stats)\n",
    "jp[\"__key__\"] = make_key(jp)\n",
    "\n",
    "stats = stats.drop_duplicates(\"__key__\", keep=\"first\")\n",
    "jp = jp.drop_duplicates(\"__key__\", keep=\"first\")\n",
    "jp = jp.loc[~jp[\"__key__\"].isin(set(stats[\"__key__\"]))]\n",
    "\n",
    "merged = pd.concat([stats, jp], ignore_index=True).drop(columns=\"__key__\")\n",
    "\n",
    "need_sid = merged[\"SearchID\"].isna()\n",
    "merged.loc[need_sid,\"SearchID\"] = merged.loc[need_sid,\"Player ID\"].map(pid2sid)"
   ]
  },
  {
   "cell_type": "code",
   "execution_count": null,
   "id": "61553ef0",
   "metadata": {},
   "outputs": [],
   "source": [
    "merged[\"__sid_num\"] = pd.to_numeric(merged[\"SearchID\"], errors=\"coerce\")\n",
    "merged = (merged.sort_values([\"__sid_num\",\"Year\",\"Team\",\"stint\"]).drop(columns=\"__sid_num\").reset_index(drop=True))\n",
    "out_file = Path(\"npb_pitchin@@@@@@@@@@@@@@@@@@@@@@@@eee331322131231.csv\")\n",
    "merged.to_csv(out_file, index=False)"
   ]
  },
  {
   "cell_type": "code",
   "execution_count": null,
   "id": "7aad7ac7",
   "metadata": {},
   "outputs": [],
   "source": []
  },
  {
   "cell_type": "code",
   "execution_count": null,
   "id": "f98877b1",
   "metadata": {},
   "outputs": [],
   "source": [
    "import pandas as pd\n",
    "from pathlib import Path\n",
    "\n",
    "merged_file = Path(\"npb_pitchin@@@@@@@@@@@@@@@@@@@@@@@@eee331322131231.csv\")\n",
    "df = pd.read_csv(merged_file)\n",
    "\n",
    "metric_cols = [\"G\",\"W\",\"L\",\"BF\",\"BB\",\"SV\",\"CG\",\"H\",\"HR\",\"R\",\"SO\"]\n",
    "key_cols = [\"SearchID\",\"Year\"] + metric_cols\n",
    "\n",
    "for col in key_cols:\n",
    "    df[col] = (pd.to_numeric(df[col], errors=\"ignore\").astype(\"string\").str.strip().str.replace(r\"\\.0$\", \"\", regex=True))\n",
    "\n",
    "df[\"__has_rates__\"] = df[\"K%\"].notna() & df[\"BB%\"].notna() & (df[\"K%\"]!=\"\") & (df[\"BB%\"]!=\"\")\n",
    "\n",
    "\n",
    "to_drop = []\n",
    "to_update_stint = []\n",
    "\n",
    "for _, dup in df.groupby(key_cols):\n",
    "    if len(dup) < 2:\n",
    "        continue\n",
    "    with_rates = dup[dup[\"__has_rates__\"]]\n",
    "    without_rates = dup[~dup[\"__has_rates__\"]]\n",
    "    if len(with_rates) == 1 and len(without_rates) >= 1:\n",
    "        keep_idx = with_rates.index[0]\n",
    "        drop_idx = without_rates.index.tolist()\n",
    "        to_update_stint.append(keep_idx)\n",
    "        to_drop.extend(drop_idx)\n",
    "\n",
    "df.loc[to_update_stint, \"stint\"] = 2\n",
    "df = df.drop(index=to_drop).reset_index(drop=True)\n",
    "df = df.drop(columns=\"__has_rates__\")\n",
    "\n",
    "out_file = merged_file.with_name(\"npb_pitching_merged_finaeee331322131231@@@.csv\")\n",
    "df.to_csv(out_file, index=False)"
   ]
  },
  {
   "cell_type": "code",
   "execution_count": null,
   "id": "b8149ee7",
   "metadata": {},
   "outputs": [],
   "source": [
    "import pandas as pd\n",
    "from pathlib import Path\n",
    "\n",
    "INPUT_FILE  = Path(\"npb_pitching_merged_finaeee331322131231@@@.csv\")\n",
    "OUTPUT_FILE = INPUT_FILE.with_name(INPUT_FILE.stem + \"all_filled.csv\")\n",
    "\n",
    "df = pd.read_csv(INPUT_FILE, low_memory=False)\n",
    "\n",
    "team2league = (df[df[\"League\"].isin([\"CL\", \"PL\"])].groupby([\"Team\", \"League\"]).size().unstack(fill_value=0).idxmax(axis=1).to_dict())\n",
    "\n",
    "blank_mask = df[\"League\"].isna() | (df[\"League\"].astype(str).str.strip() == \"\")\n",
    "df.loc[blank_mask, \"League\"] = df.loc[blank_mask, \"Team\"].map(team2league)\n",
    "\n",
    "still_blank = df[\"League\"].isna() | (df[\"League\"].astype(str).str.strip() == \"\")\n",
    "\n",
    "df.to_csv(OUTPUT_FILE, index=False)"
   ]
  }
 ],
 "metadata": {
  "kernelspec": {
   "display_name": "base",
   "language": "python",
   "name": "python3"
  },
  "language_info": {
   "codemirror_mode": {
    "name": "ipython",
    "version": 3
   },
   "file_extension": ".py",
   "mimetype": "text/x-python",
   "name": "python",
   "nbconvert_exporter": "python",
   "pygments_lexer": "ipython3",
   "version": "3.11.5"
  }
 },
 "nbformat": 4,
 "nbformat_minor": 5
}

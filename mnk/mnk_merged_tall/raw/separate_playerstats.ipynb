{
 "cells": [
  {
   "cell_type": "code",
   "execution_count": 9,
   "id": "cf857f94",
   "metadata": {},
   "outputs": [
    {
     "name": "stdout",
     "output_type": "stream",
     "text": [
      "{'JBL', 'KBO', nan, 'FL', 'UPL', 'NL', 'AA', 'UA', 'PL', 'AL', 'CL'}\n"
     ]
    }
   ],
   "source": [
    "import pandas as pd\n",
    "\n",
    "df = pd.read_csv(\"mnk_playerstats.csv\",  dtype=str)\n",
    "unique_league = set(df['lgID'])\n",
    "print(unique_league)\n"
   ]
  },
  {
   "cell_type": "code",
   "execution_count": 6,
   "id": "c96c868c",
   "metadata": {},
   "outputs": [],
   "source": [
    "from pathlib import Path\n",
    "\n",
    "df = pd.read_csv(\"mnk_playerstats.csv\", dtype=str)\n",
    "df[\"lgID\"] = df[\"lgID\"].fillna(\"\").str.strip().str.upper().replace({\"\": \"NAN\"})\n",
    "\n",
    "for lg, sub in df.groupby(\"lgID\"):\n",
    "    sub.to_csv(f\"mnk_playerstats_{lg}.csv\", index=False, na_rep=\"\")\n"
   ]
  },
  {
   "cell_type": "code",
   "execution_count": null,
   "id": "ca10a654",
   "metadata": {},
   "outputs": [],
   "source": [
    "\n",
    "def split_by_half_sorted(src):\n",
    "    df = pd.read_csv(src, dtype=str)\n",
    "    y = pd.to_numeric(df.get(\"yearID\"), errors=\"coerce\")\n",
    "    st = pd.to_numeric(df.get(\"stint\"), errors=\"coerce\")\n",
    "    tr = pd.to_numeric(df.get(\"transition_indicator\"), errors=\"coerce\")\n",
    "    df = (\n",
    "        df.assign(_y=y, _st=st, _tr=tr)\n",
    "          .sort_values([\"_y\", \"_st\", \"_tr\"], kind=\"mergesort\", na_position=\"last\")\n",
    "          .drop(columns=[\"_y\", \"_st\", \"_tr\"])\n",
    "    )\n",
    "    mid = len(df) // 2\n",
    "    lg = Path(src).stem.split(\"_\")[-1]\n",
    "    df.iloc[:mid].to_csv(f\"mnk_playerstats_{lg}_firsthalf.csv\", index=False, na_rep=\"\")\n",
    "    df.iloc[mid:].to_csv(f\"mnk_playerstats_{lg}_secondhalf.csv\", index=False, na_rep=\"\")\n",
    "\n",
    "split_by_half_sorted(\"mnk_playerstats_NL.csv\")\n",
    "split_by_half_sorted(\"mnk_playerstats_AL.csv\")\n"
   ]
  }
 ],
 "metadata": {
  "kernelspec": {
   "display_name": "Python 3",
   "language": "python",
   "name": "python3"
  },
  "language_info": {
   "codemirror_mode": {
    "name": "ipython",
    "version": 3
   },
   "file_extension": ".py",
   "mimetype": "text/x-python",
   "name": "python",
   "nbconvert_exporter": "python",
   "pygments_lexer": "ipython3",
   "version": "3.10.7"
  }
 },
 "nbformat": 4,
 "nbformat_minor": 5
}

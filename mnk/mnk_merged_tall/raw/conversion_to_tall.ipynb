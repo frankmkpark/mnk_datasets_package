{
 "cells": [
  {
   "cell_type": "code",
   "execution_count": 1,
   "id": "a93d1a5e",
   "metadata": {},
   "outputs": [],
   "source": [
    "#!/usr/bin/env python3\n",
    "\n",
    "import pandas as pd\n",
    "from pathlib import Path\n",
    "from itertools import count\n",
    "\n",
    "source = { \"Batting\":  Path(\"mnk_batting.csv\"), \"Pitching\": Path(\"mnk_pitching.csv\"), \"Fielding\": Path(\"mnk_fielding.csv\")}\n",
    "\n",
    "stat_columns = {\n",
    "    \"Batting\": [\"G\",\"AB\",\"R\",\"H\",\"2B\",\"3B\",\"HR\",\"RBI\",\"SB\",\"CS\",\"BB\",\"SO\",\"GIDP\",\"PA\",\"TB\",\"AVG\",\"SLG\",\"OBP\",\"OPS\",\"BB_pct\",\"K_pct\"],\n",
    "    \"Pitching\": [\"G\",\"W\",\"L\",\"CG\",\"SHO\",\"SV\",\"IPouts\",\"H\",\"HR\",\"BB\",\"HBP\",\"SO\",\"R\",\"ER\",\"ERA\",\"BFP\",\"WPCT\"],\n",
    "    \"Fielding\": [\"POS\",\"G\",\"PO\",\"A\",\"E\",\"DP\",\"PB\",\"FP\",\"RF\"]}\n",
    "\n",
    "playerStatsID = [\"playerID\",\"yearID\",\"lgID\",\"teamID\",\"stint\",\"AL_indicator\",\"CL_indicator\",\"KBO_indicator\",\"NL_indicator\",\"PL_indicator\",\"transition_indicator\"]\n"
   ]
  },
  {
   "cell_type": "code",
   "execution_count": 2,
   "id": "1fe331c9",
   "metadata": {},
   "outputs": [
    {
     "name": "stderr",
     "output_type": "stream",
     "text": [
      "C:\\Users\\Acer\\AppData\\Local\\Temp\\ipykernel_26172\\3820790886.py:20: DtypeWarning: Columns (2) have mixed types. Specify dtype option on import or set low_memory=False.\n",
      "  df = pd.read_csv(path)\n",
      "C:\\Users\\Acer\\AppData\\Local\\Temp\\ipykernel_26172\\3820790886.py:20: DtypeWarning: Columns (2,24) have mixed types. Specify dtype option on import or set low_memory=False.\n",
      "  df = pd.read_csv(path)\n",
      "C:\\Users\\Acer\\AppData\\Local\\Temp\\ipykernel_26172\\3820790886.py:20: DtypeWarning: Columns (2) have mixed types. Specify dtype option on import or set low_memory=False.\n",
      "  df = pd.read_csv(path)\n"
     ]
    }
   ],
   "source": [
    "rows, lookup, uid = [], {}, count(1)\n",
    "\n",
    "for typ, stats in stat_columns.items():\n",
    "    for stat in stats:\n",
    "        stat_id = next(uid)\n",
    "        rows.append({\"statID\": stat_id, \"statName\": stat, \"statType\": typ})\n",
    "        lookup[(typ, stat)] = stat_id\n",
    "        \n",
    "stats_df = pd.DataFrame(rows)\n",
    "\n",
    "\n",
    "def pad_id(df):\n",
    "    for c in playerStatsID:\n",
    "        if c not in df.columns:\n",
    "            df[c] = pd.NA\n",
    "    return df\n",
    "\n",
    "parts = []\n",
    "for typ, path in source.items():\n",
    "    df = pd.read_csv(path)\n",
    "    df = pad_id(df)\n",
    "    keep = [s for s in stat_columns[typ] if s in df.columns]\n",
    "    if not keep:\n",
    "        continue\n",
    "    long = (df[playerStatsID + keep].melt(id_vars=playerStatsID, value_vars=keep,var_name=\"statName\", value_name=\"value\").dropna(subset=[\"value\"]))\n",
    "    long[\"statType\"] = typ\n",
    "    long[\"stat\"] = long[\"statName\"].apply(lambda s: lookup[(typ, s)])\n",
    "    parts.append(long[playerStatsID + [\"statType\",\"stat\",\"value\"]])"
   ]
  },
  {
   "cell_type": "code",
   "execution_count": null,
   "id": "91669613",
   "metadata": {},
   "outputs": [
    {
     "ename": "ValueError",
     "evalue": "could not convert string to float: '-'",
     "output_type": "error",
     "traceback": [
      "\u001b[31m---------------------------------------------------------------------------\u001b[39m",
      "\u001b[31mValueError\u001b[39m                                Traceback (most recent call last)",
      "\u001b[36mCell\u001b[39m\u001b[36m \u001b[39m\u001b[32mIn[3]\u001b[39m\u001b[32m, line 3\u001b[39m\n\u001b[32m      1\u001b[39m playerstats_df = pd.concat(parts, ignore_index=\u001b[38;5;28;01mTrue\u001b[39;00m)\n\u001b[32m      2\u001b[39m playerstats_df.insert(\u001b[32m0\u001b[39m, \u001b[33m\"\u001b[39m\u001b[33mplayerstatsID\u001b[39m\u001b[33m\"\u001b[39m, \u001b[38;5;28mrange\u001b[39m(\u001b[32m1\u001b[39m, \u001b[38;5;28mlen\u001b[39m(playerstats_df) + \u001b[32m1\u001b[39m))\n\u001b[32m----> \u001b[39m\u001b[32m3\u001b[39m playerstats_df[\u001b[33m\"\u001b[39m\u001b[33mvalue\u001b[39m\u001b[33m\"\u001b[39m] = \u001b[43mplayerstats_df\u001b[49m\u001b[43m[\u001b[49m\u001b[33;43m\"\u001b[39;49m\u001b[33;43mvalue\u001b[39;49m\u001b[33;43m\"\u001b[39;49m\u001b[43m]\u001b[49m\u001b[43m.\u001b[49m\u001b[43mastype\u001b[49m\u001b[43m(\u001b[49m\u001b[33;43m\"\u001b[39;49m\u001b[33;43mfloat64\u001b[39;49m\u001b[33;43m\"\u001b[39;49m\u001b[43m)\u001b[49m \n\u001b[32m      5\u001b[39m stats_df.to_csv(\u001b[33m\"\u001b[39m\u001b[33mmnk_stats.csv\u001b[39m\u001b[33m\"\u001b[39m, index=\u001b[38;5;28;01mFalse\u001b[39;00m)\n\u001b[32m      6\u001b[39m playerstats_df.to_csv(\u001b[33m\"\u001b[39m\u001b[33mmnk_playerstats.csv\u001b[39m\u001b[33m\"\u001b[39m, index=\u001b[38;5;28;01mFalse\u001b[39;00m)\n",
      "\u001b[36mFile \u001b[39m\u001b[32mc:\\Users\\Acer\\anaconda3\\Lib\\site-packages\\pandas\\core\\generic.py:6324\u001b[39m, in \u001b[36mNDFrame.astype\u001b[39m\u001b[34m(self, dtype, copy, errors)\u001b[39m\n\u001b[32m   6317\u001b[39m     results = [\n\u001b[32m   6318\u001b[39m         \u001b[38;5;28mself\u001b[39m.iloc[:, i].astype(dtype, copy=copy)\n\u001b[32m   6319\u001b[39m         \u001b[38;5;28;01mfor\u001b[39;00m i \u001b[38;5;129;01min\u001b[39;00m \u001b[38;5;28mrange\u001b[39m(\u001b[38;5;28mlen\u001b[39m(\u001b[38;5;28mself\u001b[39m.columns))\n\u001b[32m   6320\u001b[39m     ]\n\u001b[32m   6322\u001b[39m \u001b[38;5;28;01melse\u001b[39;00m:\n\u001b[32m   6323\u001b[39m     \u001b[38;5;66;03m# else, only a single dtype is given\u001b[39;00m\n\u001b[32m-> \u001b[39m\u001b[32m6324\u001b[39m     new_data = \u001b[38;5;28;43mself\u001b[39;49m\u001b[43m.\u001b[49m\u001b[43m_mgr\u001b[49m\u001b[43m.\u001b[49m\u001b[43mastype\u001b[49m\u001b[43m(\u001b[49m\u001b[43mdtype\u001b[49m\u001b[43m=\u001b[49m\u001b[43mdtype\u001b[49m\u001b[43m,\u001b[49m\u001b[43m \u001b[49m\u001b[43mcopy\u001b[49m\u001b[43m=\u001b[49m\u001b[43mcopy\u001b[49m\u001b[43m,\u001b[49m\u001b[43m \u001b[49m\u001b[43merrors\u001b[49m\u001b[43m=\u001b[49m\u001b[43merrors\u001b[49m\u001b[43m)\u001b[49m\n\u001b[32m   6325\u001b[39m     \u001b[38;5;28;01mreturn\u001b[39;00m \u001b[38;5;28mself\u001b[39m._constructor(new_data).__finalize__(\u001b[38;5;28mself\u001b[39m, method=\u001b[33m\"\u001b[39m\u001b[33mastype\u001b[39m\u001b[33m\"\u001b[39m)\n\u001b[32m   6327\u001b[39m \u001b[38;5;66;03m# GH 33113: handle empty frame or series\u001b[39;00m\n",
      "\u001b[36mFile \u001b[39m\u001b[32mc:\\Users\\Acer\\anaconda3\\Lib\\site-packages\\pandas\\core\\internals\\managers.py:451\u001b[39m, in \u001b[36mBaseBlockManager.astype\u001b[39m\u001b[34m(self, dtype, copy, errors)\u001b[39m\n\u001b[32m    448\u001b[39m \u001b[38;5;28;01melif\u001b[39;00m using_copy_on_write():\n\u001b[32m    449\u001b[39m     copy = \u001b[38;5;28;01mFalse\u001b[39;00m\n\u001b[32m--> \u001b[39m\u001b[32m451\u001b[39m \u001b[38;5;28;01mreturn\u001b[39;00m \u001b[38;5;28;43mself\u001b[39;49m\u001b[43m.\u001b[49m\u001b[43mapply\u001b[49m\u001b[43m(\u001b[49m\n\u001b[32m    452\u001b[39m \u001b[43m    \u001b[49m\u001b[33;43m\"\u001b[39;49m\u001b[33;43mastype\u001b[39;49m\u001b[33;43m\"\u001b[39;49m\u001b[43m,\u001b[49m\n\u001b[32m    453\u001b[39m \u001b[43m    \u001b[49m\u001b[43mdtype\u001b[49m\u001b[43m=\u001b[49m\u001b[43mdtype\u001b[49m\u001b[43m,\u001b[49m\n\u001b[32m    454\u001b[39m \u001b[43m    \u001b[49m\u001b[43mcopy\u001b[49m\u001b[43m=\u001b[49m\u001b[43mcopy\u001b[49m\u001b[43m,\u001b[49m\n\u001b[32m    455\u001b[39m \u001b[43m    \u001b[49m\u001b[43merrors\u001b[49m\u001b[43m=\u001b[49m\u001b[43merrors\u001b[49m\u001b[43m,\u001b[49m\n\u001b[32m    456\u001b[39m \u001b[43m    \u001b[49m\u001b[43musing_cow\u001b[49m\u001b[43m=\u001b[49m\u001b[43musing_copy_on_write\u001b[49m\u001b[43m(\u001b[49m\u001b[43m)\u001b[49m\u001b[43m,\u001b[49m\n\u001b[32m    457\u001b[39m \u001b[43m\u001b[49m\u001b[43m)\u001b[49m\n",
      "\u001b[36mFile \u001b[39m\u001b[32mc:\\Users\\Acer\\anaconda3\\Lib\\site-packages\\pandas\\core\\internals\\managers.py:352\u001b[39m, in \u001b[36mBaseBlockManager.apply\u001b[39m\u001b[34m(self, f, align_keys, **kwargs)\u001b[39m\n\u001b[32m    350\u001b[39m         applied = b.apply(f, **kwargs)\n\u001b[32m    351\u001b[39m     \u001b[38;5;28;01melse\u001b[39;00m:\n\u001b[32m--> \u001b[39m\u001b[32m352\u001b[39m         applied = \u001b[38;5;28;43mgetattr\u001b[39;49m\u001b[43m(\u001b[49m\u001b[43mb\u001b[49m\u001b[43m,\u001b[49m\u001b[43m \u001b[49m\u001b[43mf\u001b[49m\u001b[43m)\u001b[49m\u001b[43m(\u001b[49m\u001b[43m*\u001b[49m\u001b[43m*\u001b[49m\u001b[43mkwargs\u001b[49m\u001b[43m)\u001b[49m\n\u001b[32m    353\u001b[39m     result_blocks = extend_blocks(applied, result_blocks)\n\u001b[32m    355\u001b[39m out = \u001b[38;5;28mtype\u001b[39m(\u001b[38;5;28mself\u001b[39m).from_blocks(result_blocks, \u001b[38;5;28mself\u001b[39m.axes)\n",
      "\u001b[36mFile \u001b[39m\u001b[32mc:\\Users\\Acer\\anaconda3\\Lib\\site-packages\\pandas\\core\\internals\\blocks.py:511\u001b[39m, in \u001b[36mBlock.astype\u001b[39m\u001b[34m(self, dtype, copy, errors, using_cow)\u001b[39m\n\u001b[32m    491\u001b[39m \u001b[38;5;250m\u001b[39m\u001b[33;03m\"\"\"\u001b[39;00m\n\u001b[32m    492\u001b[39m \u001b[33;03mCoerce to the new dtype.\u001b[39;00m\n\u001b[32m    493\u001b[39m \n\u001b[32m   (...)\u001b[39m\u001b[32m    507\u001b[39m \u001b[33;03mBlock\u001b[39;00m\n\u001b[32m    508\u001b[39m \u001b[33;03m\"\"\"\u001b[39;00m\n\u001b[32m    509\u001b[39m values = \u001b[38;5;28mself\u001b[39m.values\n\u001b[32m--> \u001b[39m\u001b[32m511\u001b[39m new_values = \u001b[43mastype_array_safe\u001b[49m\u001b[43m(\u001b[49m\u001b[43mvalues\u001b[49m\u001b[43m,\u001b[49m\u001b[43m \u001b[49m\u001b[43mdtype\u001b[49m\u001b[43m,\u001b[49m\u001b[43m \u001b[49m\u001b[43mcopy\u001b[49m\u001b[43m=\u001b[49m\u001b[43mcopy\u001b[49m\u001b[43m,\u001b[49m\u001b[43m \u001b[49m\u001b[43merrors\u001b[49m\u001b[43m=\u001b[49m\u001b[43merrors\u001b[49m\u001b[43m)\u001b[49m\n\u001b[32m    513\u001b[39m new_values = maybe_coerce_values(new_values)\n\u001b[32m    515\u001b[39m refs = \u001b[38;5;28;01mNone\u001b[39;00m\n",
      "\u001b[36mFile \u001b[39m\u001b[32mc:\\Users\\Acer\\anaconda3\\Lib\\site-packages\\pandas\\core\\dtypes\\astype.py:242\u001b[39m, in \u001b[36mastype_array_safe\u001b[39m\u001b[34m(values, dtype, copy, errors)\u001b[39m\n\u001b[32m    239\u001b[39m     dtype = dtype.numpy_dtype\n\u001b[32m    241\u001b[39m \u001b[38;5;28;01mtry\u001b[39;00m:\n\u001b[32m--> \u001b[39m\u001b[32m242\u001b[39m     new_values = \u001b[43mastype_array\u001b[49m\u001b[43m(\u001b[49m\u001b[43mvalues\u001b[49m\u001b[43m,\u001b[49m\u001b[43m \u001b[49m\u001b[43mdtype\u001b[49m\u001b[43m,\u001b[49m\u001b[43m \u001b[49m\u001b[43mcopy\u001b[49m\u001b[43m=\u001b[49m\u001b[43mcopy\u001b[49m\u001b[43m)\u001b[49m\n\u001b[32m    243\u001b[39m \u001b[38;5;28;01mexcept\u001b[39;00m (\u001b[38;5;167;01mValueError\u001b[39;00m, \u001b[38;5;167;01mTypeError\u001b[39;00m):\n\u001b[32m    244\u001b[39m     \u001b[38;5;66;03m# e.g. _astype_nansafe can fail on object-dtype of strings\u001b[39;00m\n\u001b[32m    245\u001b[39m     \u001b[38;5;66;03m#  trying to convert to float\u001b[39;00m\n\u001b[32m    246\u001b[39m     \u001b[38;5;28;01mif\u001b[39;00m errors == \u001b[33m\"\u001b[39m\u001b[33mignore\u001b[39m\u001b[33m\"\u001b[39m:\n",
      "\u001b[36mFile \u001b[39m\u001b[32mc:\\Users\\Acer\\anaconda3\\Lib\\site-packages\\pandas\\core\\dtypes\\astype.py:187\u001b[39m, in \u001b[36mastype_array\u001b[39m\u001b[34m(values, dtype, copy)\u001b[39m\n\u001b[32m    184\u001b[39m     values = values.astype(dtype, copy=copy)\n\u001b[32m    186\u001b[39m \u001b[38;5;28;01melse\u001b[39;00m:\n\u001b[32m--> \u001b[39m\u001b[32m187\u001b[39m     values = \u001b[43m_astype_nansafe\u001b[49m\u001b[43m(\u001b[49m\u001b[43mvalues\u001b[49m\u001b[43m,\u001b[49m\u001b[43m \u001b[49m\u001b[43mdtype\u001b[49m\u001b[43m,\u001b[49m\u001b[43m \u001b[49m\u001b[43mcopy\u001b[49m\u001b[43m=\u001b[49m\u001b[43mcopy\u001b[49m\u001b[43m)\u001b[49m\n\u001b[32m    189\u001b[39m \u001b[38;5;66;03m# in pandas we don't store numpy str dtypes, so convert to object\u001b[39;00m\n\u001b[32m    190\u001b[39m \u001b[38;5;28;01mif\u001b[39;00m \u001b[38;5;28misinstance\u001b[39m(dtype, np.dtype) \u001b[38;5;129;01mand\u001b[39;00m \u001b[38;5;28missubclass\u001b[39m(values.dtype.type, \u001b[38;5;28mstr\u001b[39m):\n",
      "\u001b[36mFile \u001b[39m\u001b[32mc:\\Users\\Acer\\anaconda3\\Lib\\site-packages\\pandas\\core\\dtypes\\astype.py:138\u001b[39m, in \u001b[36m_astype_nansafe\u001b[39m\u001b[34m(arr, dtype, copy, skipna)\u001b[39m\n\u001b[32m    134\u001b[39m     \u001b[38;5;28;01mraise\u001b[39;00m \u001b[38;5;167;01mValueError\u001b[39;00m(msg)\n\u001b[32m    136\u001b[39m \u001b[38;5;28;01mif\u001b[39;00m copy \u001b[38;5;129;01mor\u001b[39;00m is_object_dtype(arr.dtype) \u001b[38;5;129;01mor\u001b[39;00m is_object_dtype(dtype):\n\u001b[32m    137\u001b[39m     \u001b[38;5;66;03m# Explicit copy, or required since NumPy can't view from / to object.\u001b[39;00m\n\u001b[32m--> \u001b[39m\u001b[32m138\u001b[39m     \u001b[38;5;28;01mreturn\u001b[39;00m \u001b[43marr\u001b[49m\u001b[43m.\u001b[49m\u001b[43mastype\u001b[49m\u001b[43m(\u001b[49m\u001b[43mdtype\u001b[49m\u001b[43m,\u001b[49m\u001b[43m \u001b[49m\u001b[43mcopy\u001b[49m\u001b[43m=\u001b[49m\u001b[38;5;28;43;01mTrue\u001b[39;49;00m\u001b[43m)\u001b[49m\n\u001b[32m    140\u001b[39m \u001b[38;5;28;01mreturn\u001b[39;00m arr.astype(dtype, copy=copy)\n",
      "\u001b[31mValueError\u001b[39m: could not convert string to float: '-'"
     ]
    }
   ],
   "source": [
    "playerstats_df = pd.concat(parts, ignore_index=True)\n",
    "playerstats_df.insert(0, \"playerstatsID\", range(1, len(playerstats_df) + 1))\n",
    "playerstats_df[\"value\"] = (\n",
    "    pd.to_numeric(playerstats_df[\"value\"].replace(\"-\", pd.NA), errors=\"coerce\"))\n",
    "\n",
    "stats_df.to_csv(\"mnk_stats.csv\", index=False)\n",
    "playerstats_df.to_csv(\"mnk_playerstats.csv\", index=False)"
   ]
  }
 ],
 "metadata": {
  "kernelspec": {
   "display_name": "base",
   "language": "python",
   "name": "python3"
  },
  "language_info": {
   "codemirror_mode": {
    "name": "ipython",
    "version": 3
   },
   "file_extension": ".py",
   "mimetype": "text/x-python",
   "name": "python",
   "nbconvert_exporter": "python",
   "pygments_lexer": "ipython3",
   "version": "3.11.5"
  }
 },
 "nbformat": 4,
 "nbformat_minor": 5
}

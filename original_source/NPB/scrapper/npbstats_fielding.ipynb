{
 "cells": [
  {
   "cell_type": "code",
   "execution_count": null,
   "id": "ab35fe7f",
   "metadata": {},
   "outputs": [
    {
     "name": "stdout",
     "output_type": "stream",
     "text": [
      "           Player      Birthplace Height/Weight Bats/Throws      Position  Brithdate SearchID    Year  Lg     Tm Pos  G    PO    A   E   DP  PB  WP    FP   RF  RRF  rRng  rErr  rWP  rPB  rCth  rDP  rArm   FS\n",
      "Eiichiro Yamamoto  Shimane, Japan  157cm / 58kg Right/Right Right fielder 03/08/1902   100001 1936.1S JBL Kyojin  2B  2   NaN  NaN NaN  NaN NaN NaN   NaN  NaN  0.0   0.0   0.0  NaN  NaN   NaN  0.0   NaN  0.0\n",
      "Eiichiro Yamamoto  Shimane, Japan  157cm / 58kg Right/Right Right fielder 03/08/1902   100001 1936.1S JBL Kyojin  OF  2   NaN  NaN NaN  NaN NaN NaN   NaN  NaN  0.0   0.0   0.0  NaN  NaN   NaN  NaN   0.0  0.0\n",
      "Eiichiro Yamamoto  Shimane, Japan  157cm / 58kg Right/Right Right fielder 03/08/1902   100001 1936.2F JBL Kyojin  OF 14  13.0  2.0 1.0  1.0 NaN NaN 0.938 1.07 -0.5  -0.1  -0.1  NaN  NaN   NaN  NaN   1.1  0.9\n",
      "Eiichiro Yamamoto  Shimane, Japan  157cm / 58kg Right/Right Right fielder 03/08/1902   100001 1937.1S JBL Kyojin  OF 14   4.0  0.0 0.0  0.0 NaN NaN 1.000 0.29 -1.8  -0.3   0.0  NaN  NaN   NaN  NaN  -0.3 -0.6\n",
      "Eiichiro Yamamoto  Shimane, Japan  157cm / 58kg Right/Right Right fielder 03/08/1902   100001 1937.2F JBL Kyojin  OF 18  27.0  1.0 0.0  0.0 NaN NaN 1.000 1.56  0.2   1.0   0.2  NaN  NaN   NaN  NaN  -0.4  0.8\n",
      "Eiichiro Yamamoto  Shimane, Japan  157cm / 58kg Right/Right Right fielder 03/08/1902   100001    1939 JBL Kyojin  OF  2   1.0  0.0 0.0  0.0 NaN NaN 1.000 0.50  0.1   0.0   0.0  NaN  NaN   NaN  NaN   0.0  0.0\n",
      "Eiichiro Yamamoto  Shimane, Japan  157cm / 58kg Right/Right Right fielder 03/08/1902   100001    1940 JBL Kyojin  OF  3   4.0  0.0 0.0  0.0 NaN NaN 1.000 1.33  1.5   0.4   0.0  NaN  NaN   NaN  NaN  -0.1  0.4\n",
      "Eiichiro Yamamoto  Shimane, Japan  157cm / 58kg Right/Right Right fielder 03/08/1902   100001    1941 JBL Kyojin  OF  1   1.0  0.0 0.0  0.0 NaN NaN 1.000 1.00  0.3   0.1   0.0  NaN  NaN   NaN  NaN   0.0  0.0\n",
      "Eiichiro Yamamoto  Shimane, Japan  157cm / 58kg Right/Right Right fielder 03/08/1902   100001   Total NaN    NaN  2B  2   0.0  0.0 0.0  0.0 NaN NaN   NaN 0.00  0.0   0.0   0.0  NaN  NaN   NaN  0.0   NaN  0.0\n",
      "Eiichiro Yamamoto  Shimane, Japan  157cm / 58kg Right/Right Right fielder 03/08/1902   100001   Total NaN    NaN  OF 54  50.0  3.0 1.0  1.0 NaN NaN 0.981 0.98 -0.2   1.2   0.2  NaN  NaN   NaN  NaN   0.1  1.5\n",
      "   Fujio Nagasawa Hokkaido, Japan  173cm / 75kg Right/Right First baseman 09/13/1904   100002 1936.1S JBL Kyojin  1B  5   NaN  NaN NaN  NaN NaN NaN   NaN  NaN  0.0   0.0   0.0  NaN  NaN   NaN  0.0   NaN  0.0\n",
      "   Fujio Nagasawa Hokkaido, Japan  173cm / 75kg Right/Right First baseman 09/13/1904   100002 1936.2F JBL Kyojin  1B 14 105.0  6.0 1.0  3.0 NaN NaN 0.991 7.93  2.4   1.4   0.2  NaN  NaN   NaN -0.1   NaN  1.5\n",
      "   Fujio Nagasawa Hokkaido, Japan  173cm / 75kg Right/Right First baseman 09/13/1904   100002 1937.1S JBL Kyojin  1B 48 402.0 19.0 2.0 29.0 NaN NaN 0.995 8.77 17.8   9.2   0.8  NaN  NaN   NaN -0.1   NaN  9.9\n",
      "   Fujio Nagasawa Hokkaido, Japan  173cm / 75kg Right/Right First baseman 09/13/1904   100002 1937.2F JBL Kyojin  1B 47 446.0 15.0 4.0 29.0 NaN NaN 0.991 9.81 11.8   6.2   0.6  NaN  NaN   NaN -0.3   NaN  6.5\n",
      "   Fujio Nagasawa Hokkaido, Japan  173cm / 75kg Right/Right First baseman 09/13/1904   100002 1938.1S JBL Kyojin  1B 35 337.0 11.0 1.0 22.0 NaN NaN 0.997 9.94 12.1   6.7   0.6  NaN  NaN   NaN -0.2   NaN  7.1\n",
      "   Fujio Nagasawa Hokkaido, Japan  173cm / 75kg Right/Right First baseman 09/13/1904   100002 1938.2F JBL Kyojin  1B  8  31.0  2.0 1.0  1.0 NaN NaN 0.971 4.13  1.9   0.4   0.0  NaN  NaN   NaN  0.0   NaN  0.3\n",
      "   Fujio Nagasawa Hokkaido, Japan  173cm / 75kg Right/Right First baseman 09/13/1904   100002    1939 JBL Kyojin   C  4  20.0  0.0 0.0  0.0 3.0 NaN 1.000 5.00 -0.7   NaN   0.2  NaN -0.8  -0.5  NaN   NaN -1.1\n",
      "   Fujio Nagasawa Hokkaido, Japan  173cm / 75kg Right/Right First baseman 09/13/1904   100002    1939 JBL Kyojin  1B 40 206.0  6.0 5.0 20.0 NaN NaN 0.977 5.30  1.1  -0.3  -0.2  NaN  NaN   NaN  0.0   NaN -0.5\n",
      "   Fujio Nagasawa Hokkaido, Japan  173cm / 75kg Right/Right First baseman 09/13/1904   100002    1940 JBL Kyojin  1B 22  67.0  2.0 1.0  6.0 NaN NaN 0.986 3.14  1.1   0.4   0.0  NaN  NaN   NaN  0.0   NaN  0.4\n",
      "   Fujio Nagasawa Hokkaido, Japan  173cm / 75kg Right/Right First baseman 09/13/1904   100002    1940 JBL Kyojin  2B  3   2.0  2.0 0.0  0.0 NaN NaN 1.000 1.33  0.3   0.2   0.0  NaN  NaN   NaN -0.1   NaN  0.1\n",
      "rows: 27 | columns: 29\n",
      "columns: ['Player', 'Birthplace', 'Height/Weight', 'Bats/Throws', 'Position', 'Brithdate', 'SearchID', 'Year', 'Lg', 'Tm', 'Pos', 'G', 'PO', 'A', 'E', 'DP', 'PB', 'WP', 'FP', 'RF', 'RRF', 'rRng', 'rErr', 'rWP', 'rPB', 'rCth', 'rDP', 'rArm', 'FS']\n"
     ]
    }
   ],
   "source": [
    "import time\n",
    "import pandas as pd\n",
    "from bs4 import BeautifulSoup\n",
    "from selenium import webdriver\n",
    "from selenium.webdriver.chrome.options import Options\n",
    "from selenium.webdriver.common.by import By\n",
    "from selenium.webdriver.support.ui import WebDriverWait\n",
    "from selenium.webdriver.support import expected_conditions as EC\n",
    "\n",
    "\n",
    "def scrape_npb_stats(ids):\n",
    "    opts = Options()\n",
    "    opts.add_argument(\"--headless=new\")\n",
    "    opts.add_argument(\"--disable-gpu\")\n",
    "    opts.add_argument(\"--window-size=1920,1080\")\n",
    "    opts.add_argument(\n",
    "        \"user-agent=Mozilla/5.0 (Windows NT 10.0; Win64; x64) \"\n",
    "    )\n",
    "    opts.add_experimental_option(\"excludeSwitches\", [\"enable-automation\"])\n",
    "    opts.add_experimental_option(\"useAutomationExtension\", False)\n",
    "\n",
    "    driver = webdriver.Chrome(options=opts)\n",
    "    driver.execute_cdp_cmd(\n",
    "        \"Page.addScriptToEvaluateOnNewDocument\",\n",
    "        {\n",
    "            \"source\": (\n",
    "                \"Object.defineProperty(navigator, 'webdriver', \"\n",
    "                \"{get: () => undefined})\"\n",
    "            )\n",
    "        },\n",
    "    )\n",
    "\n",
    "    wait = WebDriverWait(driver, 20)\n",
    "    all_records = []\n",
    "    out_rows = []\n",
    "    \n",
    "    try:\n",
    "        for pid in ids:\n",
    "            url = f\"http://npbstats.com/players/db/batting/?wdt_search={pid}\"\n",
    "            driver.get(url)\n",
    "\n",
    "            wait.until(\n",
    "                EC.presence_of_element_located(\n",
    "                    (\n",
    "                        By.CSS_SELECTOR,\n",
    "                        \"#table_47 tbody tr.odd, #table_47 tbody tr.even\",\n",
    "                    )\n",
    "                )\n",
    "            )\n",
    "            time.sleep(0.2)\n",
    "\n",
    "            soup = BeautifulSoup(driver.page_source, \"lxml\")\n",
    "\n",
    "            # table_1 bio\n",
    "            bio_tbl = soup.find(\"table\", id=\"table_1\")\n",
    "            bio_df = pd.read_html(str(bio_tbl), flavor=\"lxml\")[0]\n",
    "            bio_df.columns = bio_df.columns.str.strip()\n",
    "            bio = bio_df.iloc[0].to_dict()\n",
    "            bio[\"SearchID\"] = pid\n",
    "\n",
    "            # table_47 standard \n",
    "            fid_tbl = soup.find(\"table\", id=\"table_47\")\n",
    "            fid_df = pd.read_html(str(fid_tbl), flavor=\"lxml\")[0]\n",
    "            fid_df.columns = fid_df.columns.str.strip()\n",
    "            fid_df[\"SearchID\"] = pid\n",
    "\n",
    "            for _, season in fid_df.iterrows():\n",
    "                out_rows.append({**bio, **season.to_dict()})\n",
    "    finally:\n",
    "        driver.quit()\n",
    "\n",
    "    return pd.DataFrame(out_rows)\n",
    "\n",
    "\n",
    "if __name__ == \"__main__\":\n",
    "    ids = [str(pid) for pid in range(100001, 100003)]\n",
    "    df = scrape_npb_stats(ids)\n",
    "\n",
    "    print(df.head(20).to_string(index=False))\n",
    "\n",
    "    print(\"rows:\", len(df), \"| columns:\", len(df.columns))\n",
    "    print(\"columns:\", list(df.columns))"
   ]
  },
  {
   "cell_type": "code",
   "execution_count": null,
   "id": "9da921c0",
   "metadata": {},
   "outputs": [
    {
     "name": "stderr",
     "output_type": "stream",
     "text": [
      "Scraping fielding:   6%|▋         | 460/7184 [2:35:39<37:24:09, 20.03s/it, pid=100461]"
     ]
    },
    {
     "name": "stdout",
     "output_type": "stream",
     "text": [
      "[saved] npbstats_fielding_chunk_1.csv\n"
     ]
    },
    {
     "name": "stderr",
     "output_type": "stream",
     "text": [
      "Scraping fielding:  15%|█▍        | 1058/7184 [5:41:31<36:55:54, 21.70s/it, pid=101059]"
     ]
    },
    {
     "name": "stdout",
     "output_type": "stream",
     "text": [
      "[saved] npbstats_fielding_chunk_2.csv\n"
     ]
    },
    {
     "name": "stderr",
     "output_type": "stream",
     "text": [
      "Scraping fielding:  18%|█▊        | 1260/7184 [6:40:54<36:44:43, 22.33s/it, pid=101261]"
     ]
    },
    {
     "name": "stdout",
     "output_type": "stream",
     "text": [
      "[warn] timeout http://npbstats.com/players/db/batting/?wdt_search=101261 — retry 1 in 1s\n"
     ]
    },
    {
     "name": "stderr",
     "output_type": "stream",
     "text": [
      "Scraping fielding:  22%|██▏       | 1604/7184 [8:32:04<27:09:05, 17.52s/it, pid=101605]"
     ]
    },
    {
     "name": "stdout",
     "output_type": "stream",
     "text": [
      "[saved] npbstats_fielding_chunk_3.csv\n"
     ]
    },
    {
     "name": "stderr",
     "output_type": "stream",
     "text": [
      "Scraping fielding:  25%|██▌       | 1802/7184 [9:35:58<40:28:22, 27.07s/it, pid=101803]"
     ]
    },
    {
     "name": "stdout",
     "output_type": "stream",
     "text": [
      "[warn] timeout http://npbstats.com/players/db/batting/?wdt_search=101803 — retry 1 in 1s\n",
      "[warn] timeout http://npbstats.com/players/db/batting/?wdt_search=101803 — retry 2 in 2s\n"
     ]
    },
    {
     "name": "stderr",
     "output_type": "stream",
     "text": [
      "Scraping fielding:  27%|██▋       | 1965/7184 [10:36:53<42:41:13, 29.44s/it, pid=101966]"
     ]
    },
    {
     "name": "stdout",
     "output_type": "stream",
     "text": [
      "[warn] timeout http://npbstats.com/players/db/batting/?wdt_search=101966 — retry 1 in 1s\n"
     ]
    },
    {
     "name": "stderr",
     "output_type": "stream",
     "text": [
      "Scraping fielding:  29%|██▉       | 2071/7184 [11:13:30<22:23:14, 15.76s/it, pid=102072]"
     ]
    },
    {
     "name": "stdout",
     "output_type": "stream",
     "text": [
      "[saved] npbstats_fielding_chunk_4.csv\n"
     ]
    },
    {
     "name": "stderr",
     "output_type": "stream",
     "text": [
      "Scraping fielding:  34%|███▍      | 2478/7184 [13:22:34<24:56:28, 19.08s/it, pid=102479]"
     ]
    },
    {
     "name": "stdout",
     "output_type": "stream",
     "text": [
      "[saved] npbstats_fielding_chunk_5.csv\n"
     ]
    },
    {
     "name": "stderr",
     "output_type": "stream",
     "text": [
      "Scraping fielding:  40%|████      | 2907/7184 [15:33:52<19:58:09, 16.81s/it, pid=102908]"
     ]
    },
    {
     "name": "stdout",
     "output_type": "stream",
     "text": [
      "[saved] npbstats_fielding_chunk_6.csv\n"
     ]
    },
    {
     "name": "stderr",
     "output_type": "stream",
     "text": [
      "Scraping fielding:  45%|████▍     | 3207/7184 [17:09:59<30:20:12, 27.46s/it, pid=103208]"
     ]
    },
    {
     "name": "stdout",
     "output_type": "stream",
     "text": [
      "[warn] timeout http://npbstats.com/players/db/batting/?wdt_search=103208 — retry 1 in 1s\n"
     ]
    },
    {
     "name": "stderr",
     "output_type": "stream",
     "text": [
      "Scraping fielding:  47%|████▋     | 3358/7184 [18:01:21<18:58:53, 17.86s/it, pid=103359]"
     ]
    },
    {
     "name": "stdout",
     "output_type": "stream",
     "text": [
      "[saved] npbstats_fielding_chunk_7.csv\n"
     ]
    },
    {
     "name": "stderr",
     "output_type": "stream",
     "text": [
      "Scraping fielding:  49%|████▊     | 3485/7184 [18:42:32<25:22:03, 24.69s/it, pid=103486]"
     ]
    },
    {
     "name": "stdout",
     "output_type": "stream",
     "text": [
      "[warn] timeout http://npbstats.com/players/db/batting/?wdt_search=103486 — retry 1 in 1s\n"
     ]
    },
    {
     "name": "stderr",
     "output_type": "stream",
     "text": [
      "Scraping fielding:  49%|████▊     | 3486/7184 [18:44:15<49:18:52, 48.01s/it, pid=103487]"
     ]
    },
    {
     "name": "stdout",
     "output_type": "stream",
     "text": [
      "[warn] timeout http://npbstats.com/players/db/batting/?wdt_search=103487 — retry 1 in 1s\n"
     ]
    },
    {
     "name": "stderr",
     "output_type": "stream",
     "text": [
      "Scraping fielding:  50%|████▉     | 3582/7184 [19:20:18<23:09:20, 23.14s/it, pid=103583]"
     ]
    },
    {
     "name": "stdout",
     "output_type": "stream",
     "text": [
      "[warn] timeout http://npbstats.com/players/db/batting/?wdt_search=103583 — retry 1 in 1s\n"
     ]
    },
    {
     "name": "stderr",
     "output_type": "stream",
     "text": [
      "Scraping fielding:  53%|█████▎    | 3826/7184 [20:48:38<16:30:12, 17.69s/it, pid=103827]"
     ]
    },
    {
     "name": "stdout",
     "output_type": "stream",
     "text": [
      "[saved] npbstats_fielding_chunk_8.csv\n"
     ]
    },
    {
     "name": "stderr",
     "output_type": "stream",
     "text": [
      "Scraping fielding:  54%|█████▍    | 3905/7184 [21:14:27<21:56:42, 24.09s/it, pid=103906]"
     ]
    },
    {
     "name": "stdout",
     "output_type": "stream",
     "text": [
      "[warn] timeout http://npbstats.com/players/db/batting/?wdt_search=103906 — retry 1 in 1s\n"
     ]
    },
    {
     "name": "stderr",
     "output_type": "stream",
     "text": [
      "Scraping fielding:  54%|█████▍    | 3908/7184 [21:17:04<34:31:18, 37.94s/it, pid=103909]"
     ]
    },
    {
     "name": "stdout",
     "output_type": "stream",
     "text": [
      "[warn] timeout http://npbstats.com/players/db/batting/?wdt_search=103909 — retry 1 in 1s\n"
     ]
    },
    {
     "name": "stderr",
     "output_type": "stream",
     "text": [
      "Scraping fielding:  60%|█████▉    | 4288/7184 [23:25:46<16:12:25, 20.15s/it, pid=104289]"
     ]
    },
    {
     "name": "stdout",
     "output_type": "stream",
     "text": [
      "[saved] npbstats_fielding_chunk_9.csv\n"
     ]
    },
    {
     "name": "stderr",
     "output_type": "stream",
     "text": [
      "Scraping fielding:  67%|██████▋   | 4813/7184 [26:15:01<10:59:14, 16.68s/it, pid=104814]"
     ]
    },
    {
     "name": "stdout",
     "output_type": "stream",
     "text": [
      "[saved] npbstats_fielding_chunk_10.csv\n"
     ]
    },
    {
     "name": "stderr",
     "output_type": "stream",
     "text": [
      "Scraping fielding:  67%|██████▋   | 4832/7184 [26:22:04<21:57:39, 33.61s/it, pid=104833]"
     ]
    },
    {
     "name": "stdout",
     "output_type": "stream",
     "text": [
      "[warn] timeout http://npbstats.com/players/db/batting/?wdt_search=104833 — retry 1 in 1s\n"
     ]
    },
    {
     "name": "stderr",
     "output_type": "stream",
     "text": [
      "Scraping fielding:  74%|███████▍  | 5329/7184 [28:27:33<5:11:45, 10.08s/it, pid=105330] "
     ]
    },
    {
     "name": "stdout",
     "output_type": "stream",
     "text": [
      "[saved] npbstats_fielding_chunk_11.csv\n"
     ]
    },
    {
     "name": "stderr",
     "output_type": "stream",
     "text": [
      "Scraping fielding:  82%|████████▏ | 5858/7184 [30:07:48<8:14:55, 22.40s/it, pid=105859]"
     ]
    },
    {
     "name": "stdout",
     "output_type": "stream",
     "text": [
      "[warn] timeout http://npbstats.com/players/db/batting/?wdt_search=105859 — retry 1 in 1s\n"
     ]
    },
    {
     "name": "stderr",
     "output_type": "stream",
     "text": [
      "Scraping fielding:  82%|████████▏ | 5870/7184 [30:11:42<7:22:59, 20.23s/it, pid=105871] "
     ]
    },
    {
     "name": "stdout",
     "output_type": "stream",
     "text": [
      "[saved] npbstats_fielding_chunk_12.csv\n"
     ]
    },
    {
     "name": "stderr",
     "output_type": "stream",
     "text": [
      "Scraping fielding:  82%|████████▏ | 5882/7184 [30:15:06<6:44:12, 18.63s/it, pid=105883]"
     ]
    },
    {
     "name": "stdout",
     "output_type": "stream",
     "text": [
      "[warn] timeout http://npbstats.com/players/db/batting/?wdt_search=105883 — retry 1 in 1s\n"
     ]
    },
    {
     "name": "stderr",
     "output_type": "stream",
     "text": [
      "Scraping fielding:  91%|█████████ | 6529/7184 [32:09:14<1:42:31,  9.39s/it, pid=106530] "
     ]
    },
    {
     "name": "stdout",
     "output_type": "stream",
     "text": [
      "[saved] npbstats_fielding_chunk_13.csv\n"
     ]
    },
    {
     "name": "stderr",
     "output_type": "stream",
     "text": [
      "Scraping fielding: 100%|██████████| 7184/7184 [34:00:32<00:00, 17.04s/it, pid=107184]  \n"
     ]
    },
    {
     "name": "stdout",
     "output_type": "stream",
     "text": [
      "Saved npbstats_fielding_final.csv\n",
      "Done scraping.\n"
     ]
    }
   ],
   "source": [
    "import time\n",
    "import pandas as pd\n",
    "from bs4 import BeautifulSoup\n",
    "from selenium import webdriver\n",
    "from selenium.webdriver.chrome.options import Options\n",
    "from selenium.webdriver.common.by import By\n",
    "from selenium.webdriver.support.ui import WebDriverWait\n",
    "from selenium.webdriver.support import expected_conditions as EC\n",
    "from selenium.common.exceptions import TimeoutException\n",
    "from tqdm import tqdm\n",
    "\n",
    "def safe_get_and_wait(driver, wait, url, max_retries=2):\n",
    "    \"\"\"Load `url` and wait for table 47 to appear; retry on TimeoutException.\"\"\"\n",
    "    for attempt in range(max_retries + 1):\n",
    "        try:\n",
    "            driver.get(url)\n",
    "            wait.until(\n",
    "                EC.presence_of_element_located(\n",
    "                    (By.CSS_SELECTOR, \"#table_47 tbody tr.odd, #table_47 tbody tr.even\")\n",
    "                )\n",
    "            )\n",
    "            time.sleep(0.2)\n",
    "            return True\n",
    "        except TimeoutException:\n",
    "            if attempt < max_retries:\n",
    "                backoff = 2 ** attempt\n",
    "                print(f\"[warn] timeout {url} — retry {attempt+1} in {backoff}s\")\n",
    "                time.sleep(backoff)\n",
    "            else:\n",
    "                print(f\"[error] giving up on {url}\")\n",
    "                return False\n",
    "\n",
    "def scrape_npb_stats(ids, chunk_size=5000):\n",
    "    opts = Options()\n",
    "    opts.add_argument(\"--headless=new\")\n",
    "    opts.add_argument(\"--disable-gpu\")\n",
    "    opts.add_argument(\"--window-size=1920,1080\")\n",
    "    opts.add_argument(\"user-agent=Mozilla/5.0 (Windows NT 10.0; Win64; x64)\")\n",
    "    opts.add_experimental_option(\"excludeSwitches\", [\"enable-automation\"])\n",
    "    opts.add_experimental_option(\"useAutomationExtension\", False)\n",
    "\n",
    "    driver = webdriver.Chrome(options=opts)\n",
    "    driver.execute_cdp_cmd(\n",
    "        \"Page.addScriptToEvaluateOnNewDocument\",\n",
    "        {\"source\": \"Object.defineProperty(navigator,'webdriver',{get:()=>undefined})\"},\n",
    "    )\n",
    "    wait = WebDriverWait(driver, 20)\n",
    "\n",
    "    out_rows, chunk_idx = [], 1\n",
    "    try:\n",
    "        pbar = tqdm(ids, desc=\"Scraping fielding\")\n",
    "        for pid in pbar:\n",
    "            pbar.set_postfix(pid=pid)\n",
    "\n",
    "            url = f\"http://npbstats.com/players/db/batting/?wdt_search={pid}\"\n",
    "            if not safe_get_and_wait(driver, wait, url):\n",
    "                continue\n",
    "\n",
    "            soup = BeautifulSoup(driver.page_source, \"lxml\")\n",
    "\n",
    "            # table 1\n",
    "            bio_tbl = soup.find(\"table\", id=\"table_1\")\n",
    "            if not bio_tbl or bio_tbl.find(\"td\", class_=\"dataTables_empty\"):\n",
    "                continue\n",
    "            bio_df = pd.read_html(str(bio_tbl), flavor=\"lxml\")[0]\n",
    "            bio_df.columns = bio_df.columns.str.strip()\n",
    "            bio = bio_df.iloc[0].to_dict()\n",
    "            bio[\"SearchID\"] = pid\n",
    "\n",
    "            # table 47\n",
    "            fld_tbl = soup.find(\"table\", id=\"table_47\")\n",
    "            fld_df = pd.read_html(str(fld_tbl), flavor=\"lxml\")[0]\n",
    "            fld_df.columns = fld_df.columns.str.strip()\n",
    "            fld_df[\"SearchID\"] = pid\n",
    "            fld_df = fld_df[fld_df[\"Year\"] != \"データはありません。\"]\n",
    "            if fld_df.empty:\n",
    "                continue\n",
    "\n",
    "            for _, season in fld_df.iterrows():\n",
    "                out_rows.append({**bio, **season.to_dict()})\n",
    "\n",
    "            if len(out_rows) >= chunk_size:\n",
    "                df_chunk = pd.DataFrame(out_rows)\n",
    "                fname = f\"npbstats_fielding_chunk_{chunk_idx}.csv\"\n",
    "                df_chunk.to_csv(fname, index=False)\n",
    "                pbar.write(f\"[saved] {fname}\")\n",
    "                chunk_idx += 1\n",
    "                out_rows.clear()\n",
    "\n",
    "    finally:\n",
    "        driver.quit()\n",
    "\n",
    "    return pd.DataFrame(out_rows)\n",
    "\n",
    "\n",
    "if __name__ == \"__main__\":\n",
    "    ids = [str(pid) for pid in range(100001, 107185)]\n",
    "    df_remain = scrape_npb_stats(ids)\n",
    "\n",
    "    if not df_remain.empty:\n",
    "        df_remain.to_csv(\"npbstats_fielding_final.csv\", index=False)"
   ]
  },
  {
   "cell_type": "code",
   "execution_count": null,
   "id": "8fe60983",
   "metadata": {},
   "outputs": [
    {
     "name": "stdout",
     "output_type": "stream",
     "text": [
      "Found 14 files: ['npbstats_fielding_final.csv', 'npbstats_fielding_chunk_1.csv', 'npbstats_fielding_chunk_10.csv', 'npbstats_fielding_chunk_11.csv', 'npbstats_fielding_chunk_12.csv', 'npbstats_fielding_chunk_13.csv', 'npbstats_fielding_chunk_2.csv', 'npbstats_fielding_chunk_3.csv', 'npbstats_fielding_chunk_4.csv', 'npbstats_fielding_chunk_5.csv', 'npbstats_fielding_chunk_6.csv', 'npbstats_fielding_chunk_7.csv', 'npbstats_fielding_chunk_8.csv', 'npbstats_fielding_chunk_9.csv']\n"
     ]
    }
   ],
   "source": [
    "import glob\n",
    "import pandas as pd\n",
    "from pathlib import Path\n",
    "\n",
    "csv_files = sorted(glob.glob(\"npbstats_fielding_chunk_*.csv\") + [\"npbstats_fielding_final.csv\"], key=lambda p: (p.count(\"_\"), p))"
   ]
  },
  {
   "cell_type": "code",
   "execution_count": null,
   "id": "a91e713f",
   "metadata": {},
   "outputs": [],
   "source": [
    "frames = []\n",
    "for f in csv_files:\n",
    "    df = pd.read_csv(f)\n",
    "    frames.append(df)"
   ]
  },
  {
   "cell_type": "code",
   "execution_count": null,
   "id": "dba71c41",
   "metadata": {},
   "outputs": [],
   "source": [
    "big_df = pd.concat(frames, ignore_index=True)\n",
    "big_df = big_df.sort_values(\"SearchID\", key=lambda s: s.astype(int))  # ← sort\n",
    "\n",
    "out_path = Path(\"npbstats_fielding_full.csv\")\n",
    "big_df.to_csv(out_path, index=False"
   ]
  }
 ],
 "metadata": {
  "kernelspec": {
   "display_name": "base",
   "language": "python",
   "name": "python3"
  },
  "language_info": {
   "codemirror_mode": {
    "name": "ipython",
    "version": 3
   },
   "file_extension": ".py",
   "mimetype": "text/x-python",
   "name": "python",
   "nbconvert_exporter": "python",
   "pygments_lexer": "ipython3",
   "version": "3.11.5"
  }
 },
 "nbformat": 4,
 "nbformat_minor": 5
}

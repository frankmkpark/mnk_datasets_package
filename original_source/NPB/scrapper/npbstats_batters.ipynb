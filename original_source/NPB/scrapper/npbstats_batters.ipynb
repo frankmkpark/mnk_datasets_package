{
 "cells": [
  {
   "cell_type": "code",
   "execution_count": null,
   "id": "e29f058c",
   "metadata": {},
   "outputs": [],
   "source": [
    "# http://npbstats.com/players/db/batting/?wdt_search=100001 \n",
    "# http://npbstats.com/players/db/batting/?wdt_search=107184"
   ]
  },
  {
   "cell_type": "code",
   "execution_count": null,
   "id": "9a28be4c",
   "metadata": {},
   "outputs": [
    {
     "name": "stderr",
     "output_type": "stream",
     "text": [
      "Scraping batters:   8%|▊         | 583/7184 [2:00:58<34:36:37, 18.88s/it, pid=100584]"
     ]
    },
    {
     "name": "stdout",
     "output_type": "stream",
     "text": [
      "[warn] timeout loading http://npbstats.com/players/db/batting/?wdt_search=100584, retry 1 in 1s\n"
     ]
    },
    {
     "name": "stderr",
     "output_type": "stream",
     "text": [
      "Scraping batters:  11%|█▏        | 826/7184 [2:49:10<18:18:34, 10.37s/it, pid=100827]"
     ]
    },
    {
     "name": "stdout",
     "output_type": "stream",
     "text": [
      "[saved] npbstats_batter_chunk_1.csv\n"
     ]
    },
    {
     "name": "stderr",
     "output_type": "stream",
     "text": [
      "Scraping batters:  14%|█▍        | 1034/7184 [3:31:10<26:46:40, 15.67s/it, pid=101035]"
     ]
    },
    {
     "name": "stdout",
     "output_type": "stream",
     "text": [
      "[warn] timeout loading http://npbstats.com/players/db/batting/?wdt_search=101035, retry 1 in 1s\n"
     ]
    },
    {
     "name": "stderr",
     "output_type": "stream",
     "text": [
      "Scraping batters:  16%|█▋        | 1172/7184 [4:02:38<27:34:20, 16.51s/it, pid=101173]"
     ]
    },
    {
     "name": "stdout",
     "output_type": "stream",
     "text": [
      "[warn] timeout loading http://npbstats.com/players/db/batting/?wdt_search=101173, retry 1 in 1s\n"
     ]
    },
    {
     "name": "stderr",
     "output_type": "stream",
     "text": [
      "Scraping batters:  16%|█▋        | 1175/7184 [4:05:08<54:15:22, 32.50s/it, pid=101176]"
     ]
    },
    {
     "name": "stdout",
     "output_type": "stream",
     "text": [
      "[warn] timeout loading http://npbstats.com/players/db/batting/?wdt_search=101176, retry 1 in 1s\n"
     ]
    },
    {
     "name": "stderr",
     "output_type": "stream",
     "text": [
      "Scraping batters:  16%|█▋        | 1176/7184 [4:07:38<112:59:11, 67.70s/it, pid=101177]"
     ]
    },
    {
     "name": "stdout",
     "output_type": "stream",
     "text": [
      "[warn] timeout loading http://npbstats.com/players/db/batting/?wdt_search=101177, retry 1 in 1s\n"
     ]
    },
    {
     "name": "stderr",
     "output_type": "stream",
     "text": [
      "Scraping batters:  19%|█▊        | 1342/7184 [4:47:18<31:21:42, 19.33s/it, pid=101343] "
     ]
    },
    {
     "name": "stdout",
     "output_type": "stream",
     "text": [
      "[warn] timeout loading http://npbstats.com/players/db/batting/?wdt_search=101343, retry 1 in 1s\n"
     ]
    },
    {
     "name": "stderr",
     "output_type": "stream",
     "text": [
      "Scraping batters:  23%|██▎       | 1632/7184 [5:51:39<15:33:05, 10.08s/it, pid=101633]"
     ]
    },
    {
     "name": "stdout",
     "output_type": "stream",
     "text": [
      "[saved] npbstats_batter_chunk_2.csv\n"
     ]
    },
    {
     "name": "stderr",
     "output_type": "stream",
     "text": [
      "Scraping batters:  25%|██▌       | 1829/7184 [6:33:35<21:56:41, 14.75s/it, pid=101830]"
     ]
    },
    {
     "name": "stdout",
     "output_type": "stream",
     "text": [
      "[warn] timeout loading http://npbstats.com/players/db/batting/?wdt_search=101830, retry 1 in 1s\n",
      "[warn] timeout loading http://npbstats.com/players/db/batting/?wdt_search=101830, retry 2 in 2s\n"
     ]
    },
    {
     "name": "stderr",
     "output_type": "stream",
     "text": [
      "Scraping batters:  26%|██▌       | 1833/7184 [6:36:14<37:08:51, 24.99s/it, pid=101834]"
     ]
    },
    {
     "name": "stdout",
     "output_type": "stream",
     "text": [
      "[warn] timeout loading http://npbstats.com/players/db/batting/?wdt_search=101834, retry 1 in 1s\n"
     ]
    },
    {
     "name": "stderr",
     "output_type": "stream",
     "text": [
      "Scraping batters:  32%|███▏      | 2327/7184 [8:15:06<19:43:42, 14.62s/it, pid=102328]"
     ]
    },
    {
     "name": "stdout",
     "output_type": "stream",
     "text": [
      "[saved] npbstats_batter_chunk_3.csv\n"
     ]
    },
    {
     "name": "stderr",
     "output_type": "stream",
     "text": [
      "Scraping batters:  41%|████▏     | 2965/7184 [10:29:23<17:54:09, 15.28s/it, pid=102966]"
     ]
    },
    {
     "name": "stdout",
     "output_type": "stream",
     "text": [
      "[saved] npbstats_batter_chunk_4.csv\n"
     ]
    },
    {
     "name": "stderr",
     "output_type": "stream",
     "text": [
      "Scraping batters:  50%|████▉     | 3586/7184 [12:36:17<13:03:45, 13.07s/it, pid=103587]"
     ]
    },
    {
     "name": "stdout",
     "output_type": "stream",
     "text": [
      "[saved] npbstats_batter_chunk_5.csv\n"
     ]
    },
    {
     "name": "stderr",
     "output_type": "stream",
     "text": [
      "Scraping batters:  58%|█████▊    | 4191/7184 [14:50:18<8:56:51, 10.76s/it, pid=104192] "
     ]
    },
    {
     "name": "stdout",
     "output_type": "stream",
     "text": [
      "[saved] npbstats_batter_chunk_6.csv\n"
     ]
    },
    {
     "name": "stderr",
     "output_type": "stream",
     "text": [
      "Scraping batters:  61%|██████▏   | 4412/7184 [15:35:32<17:06:10, 22.21s/it, pid=104413]"
     ]
    },
    {
     "name": "stdout",
     "output_type": "stream",
     "text": [
      "[warn] timeout loading http://npbstats.com/players/db/batting/?wdt_search=104413, retry 1 in 1s\n"
     ]
    },
    {
     "name": "stderr",
     "output_type": "stream",
     "text": [
      "Scraping batters:  64%|██████▎   | 4578/7184 [16:20:40<15:20:46, 21.20s/it, pid=104579]"
     ]
    },
    {
     "name": "stdout",
     "output_type": "stream",
     "text": [
      "[warn] timeout loading http://npbstats.com/players/db/batting/?wdt_search=104579, retry 1 in 1s\n"
     ]
    },
    {
     "name": "stderr",
     "output_type": "stream",
     "text": [
      "Scraping batters:  68%|██████▊   | 4857/7184 [17:22:41<7:34:00, 11.71s/it, pid=104858] "
     ]
    },
    {
     "name": "stdout",
     "output_type": "stream",
     "text": [
      "[saved] npbstats_batter_chunk_7.csv\n"
     ]
    },
    {
     "name": "stderr",
     "output_type": "stream",
     "text": [
      "Scraping batters:  69%|██████▉   | 4947/7184 [17:44:26<12:06:12, 19.48s/it, pid=104948]"
     ]
    },
    {
     "name": "stdout",
     "output_type": "stream",
     "text": [
      "[warn] timeout loading http://npbstats.com/players/db/batting/?wdt_search=104948, retry 1 in 1s\n"
     ]
    },
    {
     "name": "stderr",
     "output_type": "stream",
     "text": [
      "Scraping batters:  77%|███████▋  | 5531/7184 [19:57:56<8:03:51, 17.56s/it, pid=105532] "
     ]
    },
    {
     "name": "stdout",
     "output_type": "stream",
     "text": [
      "[saved] npbstats_batter_chunk_8.csv\n"
     ]
    },
    {
     "name": "stderr",
     "output_type": "stream",
     "text": [
      "Scraping batters:  80%|███████▉  | 5742/7184 [20:46:51<8:50:20, 22.07s/it, pid=105743] "
     ]
    },
    {
     "name": "stdout",
     "output_type": "stream",
     "text": [
      "[warn] timeout loading http://npbstats.com/players/db/batting/?wdt_search=105743, retry 1 in 1s\n"
     ]
    },
    {
     "name": "stderr",
     "output_type": "stream",
     "text": [
      "Scraping batters:  81%|████████▏ | 5845/7184 [21:09:49<4:26:51, 11.96s/it, pid=105846] "
     ]
    },
    {
     "name": "stdout",
     "output_type": "stream",
     "text": [
      "[warn] timeout loading http://npbstats.com/players/db/batting/?wdt_search=105846, retry 1 in 1s\n"
     ]
    },
    {
     "name": "stderr",
     "output_type": "stream",
     "text": [
      "Scraping batters:  88%|████████▊ | 6307/7184 [22:46:57<3:36:52, 14.84s/it, pid=106308]"
     ]
    },
    {
     "name": "stdout",
     "output_type": "stream",
     "text": [
      "[saved] npbstats_batter_chunk_9.csv\n"
     ]
    },
    {
     "name": "stderr",
     "output_type": "stream",
     "text": [
      "Scraping batters: 100%|██████████| 7184/7184 [25:37:52<00:00, 12.84s/it, pid=107184]  \n"
     ]
    },
    {
     "name": "stdout",
     "output_type": "stream",
     "text": [
      "Saved npbstats_batter_final.csv\n",
      "Done scraping.\n"
     ]
    }
   ],
   "source": [
    "import time\n",
    "import pandas as pd\n",
    "from bs4 import BeautifulSoup\n",
    "from selenium import webdriver\n",
    "from selenium.webdriver.chrome.options import Options\n",
    "from selenium.webdriver.common.by import By\n",
    "from selenium.webdriver.support.ui import WebDriverWait\n",
    "from selenium.webdriver.support import expected_conditions as EC\n",
    "from selenium.common.exceptions import TimeoutException\n",
    "from tqdm import tqdm\n",
    "\n",
    "def safe_get_and_wait(driver, wait, url, max_retries=2):\n",
    "    for attempt in range(max_retries + 1):\n",
    "        try:\n",
    "            driver.get(url)\n",
    "            wait.until(\n",
    "                EC.presence_of_element_located(\n",
    "                    (\n",
    "                        By.CSS_SELECTOR,\n",
    "                        \"#table_15 tbody tr.odd, #table_15 tbody tr.even\",\n",
    "                    )\n",
    "                )\n",
    "            )\n",
    "            wait.until(\n",
    "                EC.presence_of_element_located(\n",
    "                    (\n",
    "                        By.CSS_SELECTOR,\n",
    "                        \"#table_7 tbody tr.odd, #table_7 tbody tr.even\",\n",
    "                    )\n",
    "                )\n",
    "            )\n",
    "            \n",
    "            time.sleep(0.2)\n",
    "            return True\n",
    "        except TimeoutException:\n",
    "            if attempt < max_retries:\n",
    "                backoff = 2 ** attempt\n",
    "                time.sleep(backoff)\n",
    "            else:\n",
    "                return False\n",
    "\n",
    "def scrape_npb_stats(ids, chunk_size=5000):\n",
    "    opts = Options()\n",
    "    opts.add_argument(\"--headless=new\")\n",
    "    opts.add_argument(\"--disable-gpu\")\n",
    "    opts.add_argument(\"--window-size=1920,1080\")\n",
    "    opts.add_argument(\"user-agent=Mozilla/5.0 (Windows NT 10.0; Win64; x64)\")\n",
    "    opts.add_experimental_option(\"excludeSwitches\", [\"enable-automation\"])\n",
    "    opts.add_experimental_option(\"useAutomationExtension\", False)\n",
    "    driver = webdriver.Chrome(options=opts)\n",
    "    driver.execute_cdp_cmd(\n",
    "        \"Page.addScriptToEvaluateOnNewDocument\",\n",
    "        {\"source\": \"Object.defineProperty(navigator,'webdriver',{get:()=>undefined})\"},\n",
    "    )\n",
    "    wait = WebDriverWait(driver, 20)\n",
    "\n",
    "    out_rows = []\n",
    "    chunk_idx = 1\n",
    "\n",
    "    try:\n",
    "        pbar = tqdm(ids, desc=\"batters\")\n",
    "        for pid in pbar:\n",
    "            pbar.set_postfix(pid=pid)\n",
    "            url = f\"http://npbstats.com/players/db/batting/?wdt_search={pid}\"\n",
    "            if not safe_get_and_wait(driver, wait, url):\n",
    "                continue\n",
    "\n",
    "            soup = BeautifulSoup(driver.page_source, \"lxml\")\n",
    "\n",
    "            # table_1 bio\n",
    "            bio_tbl = soup.find(\"table\", id=\"table_1\")\n",
    "            if not bio_tbl or bio_tbl.find(\"td\", class_=\"dataTables_empty\"):\n",
    "                continue\n",
    "            bio_df = pd.read_html(str(bio_tbl), flavor=\"lxml\")[0]\n",
    "            bio_df.columns = bio_df.columns.str.strip()\n",
    "            bio = bio_df.iloc[0].to_dict()\n",
    "            bio[\"SearchID\"] = pid\n",
    "\n",
    "            # table_7 dashboard\n",
    "            dash_tbl = soup.find(\"table\", id=\"table_7\")\n",
    "            dash_df = pd.read_html(str(dash_tbl), flavor=\"lxml\")[0]\n",
    "            dash_df.columns = dash_df.columns.str.strip()\n",
    "            dash_df[\"SearchID\"] = pid\n",
    "\n",
    "            # table_15 batting\n",
    "            bat_tbl = soup.find(\"table\", id=\"table_15\")\n",
    "            bat_df = pd.read_html(str(bat_tbl), flavor=\"lxml\")[0]\n",
    "            bat_df.columns = bat_df.columns.str.strip()\n",
    "            bat_df[\"SearchID\"] = pid\n",
    "\n",
    "            # dedupe on Year\n",
    "            bat_df  = bat_df.drop_duplicates(subset=\"Year\", keep=\"first\")\n",
    "            dash_df = dash_df.drop_duplicates(subset=\"Year\", keep=\"first\")\n",
    "\n",
    "            # merge\n",
    "            merged = bat_df.merge(dash_df, on=\"Year\", how=\"left\")\n",
    "\n",
    "            # collect\n",
    "            for _, season in merged.iterrows():\n",
    "                out_rows.append({**bio, **season.to_dict()})\n",
    "\n",
    "            # chunk save\n",
    "            if len(out_rows) >= chunk_size:\n",
    "                df_chunk = pd.DataFrame(out_rows)\n",
    "                fname = f\"npbstats_batter_chunk_{chunk_idx}.csv\"\n",
    "                df_chunk.to_csv(fname, index=False)\n",
    "                pbar.write(f\"[saved] {fname}\")\n",
    "                chunk_idx += 1\n",
    "                out_rows.clear()\n",
    "\n",
    "    finally:\n",
    "        driver.quit()\n",
    "\n",
    "    return pd.DataFrame(out_rows)\n",
    "\n",
    "if __name__ == \"__main__\":\n",
    "    ids = [str(pid) for pid in range(100001, 107185)]\n",
    "    df_remain = scrape_npb_stats(ids)\n",
    "\n",
    "    if not df_remain.empty:\n",
    "        df_remain.to_csv(\"npbstats_batter_final.csv\", index=False)"
   ]
  },
  {
   "cell_type": "code",
   "execution_count": null,
   "id": "dff37381",
   "metadata": {},
   "outputs": [
    {
     "name": "stdout",
     "output_type": "stream",
     "text": [
      "Found 10 files: ['npbstats_batter_final.csv', 'npbstats_batter_chunk_1.csv', 'npbstats_batter_chunk_2.csv', 'npbstats_batter_chunk_3.csv', 'npbstats_batter_chunk_4.csv', 'npbstats_batter_chunk_5.csv', 'npbstats_batter_chunk_6.csv', 'npbstats_batter_chunk_7.csv', 'npbstats_batter_chunk_8.csv', 'npbstats_batter_chunk_9.csv']\n"
     ]
    }
   ],
   "source": [
    "import glob\n",
    "import pandas as pd\n",
    "from pathlib import Path\n",
    "\n",
    "csv_files = sorted(\n",
    "    glob.glob(\"npbstats_batter_chunk_*.csv\") + [\"npbstats_batter_final.csv\"],\n",
    "    key=lambda p: (p.count(\"_\"), p)\n",
    ")"
   ]
  },
  {
   "cell_type": "code",
   "execution_count": 19,
   "id": "f27fcc66",
   "metadata": {},
   "outputs": [
    {
     "name": "stdout",
     "output_type": "stream",
     "text": [
      "→ reading npbstats_batter_final.csv\n",
      "→ reading npbstats_batter_chunk_1.csv\n",
      "→ reading npbstats_batter_chunk_2.csv\n",
      "→ reading npbstats_batter_chunk_3.csv\n",
      "→ reading npbstats_batter_chunk_4.csv\n",
      "→ reading npbstats_batter_chunk_5.csv\n",
      "→ reading npbstats_batter_chunk_6.csv\n",
      "→ reading npbstats_batter_chunk_7.csv\n",
      "→ reading npbstats_batter_chunk_8.csv\n",
      "→ reading npbstats_batter_chunk_9.csv\n"
     ]
    }
   ],
   "source": [
    "frames = []\n",
    "for f in csv_files:\n",
    "    print(f\"→ reading {f}\")\n",
    "    df = pd.read_csv(f)\n",
    "    frames.append(df)"
   ]
  },
  {
   "cell_type": "code",
   "execution_count": null,
   "id": "673ae668",
   "metadata": {},
   "outputs": [
    {
     "name": "stdout",
     "output_type": "stream",
     "text": [
      "Saved npbstats_batter_full.csv  |  rows: 48408\n"
     ]
    },
    {
     "ename": "",
     "evalue": "",
     "output_type": "error",
     "traceback": [
      "\u001b[1;31mThe Kernel crashed while executing code in the current cell or a previous cell. \n",
      "\u001b[1;31mPlease review the code in the cell(s) to identify a possible cause of the failure. \n",
      "\u001b[1;31mClick <a href='https://aka.ms/vscodeJupyterKernelCrash'>here</a> for more info. \n",
      "\u001b[1;31mView Jupyter <a href='command:jupyter.viewOutput'>log</a> for further details."
     ]
    }
   ],
   "source": [
    "big_df = pd.concat(frames, ignore_index=True)\n",
    "big_df = big_df.sort_values(\"SearchID\", key=lambda s: s.astype(int))  # ← sort\n",
    "\n",
    "out_path = Path(\"npbstats_batter_full.csv\")\n",
    "big_df.to_csv(out_path, index=False)\n",
    "print(f\"Saved {out_path}  |  rows: {len(big_df)}\")"
   ]
  }
 ],
 "metadata": {
  "kernelspec": {
   "display_name": "base",
   "language": "python",
   "name": "python3"
  },
  "language_info": {
   "codemirror_mode": {
    "name": "ipython",
    "version": 3
   },
   "file_extension": ".py",
   "mimetype": "text/x-python",
   "name": "python",
   "nbconvert_exporter": "python",
   "pygments_lexer": "ipython3",
   "version": "3.11.5"
  }
 },
 "nbformat": 4,
 "nbformat_minor": 5
}

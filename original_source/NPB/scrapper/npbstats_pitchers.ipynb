{
 "cells": [
  {
   "cell_type": "code",
   "execution_count": 2,
   "id": "578ac06a",
   "metadata": {},
   "outputs": [
    {
     "name": "stderr",
     "output_type": "stream",
     "text": [
      "Scraping pitching (16/7):  25%|██▍       | 1765/7184 [6:38:23<32:26:47, 21.56s/it, pid=101766]"
     ]
    },
    {
     "name": "stdout",
     "output_type": "stream",
     "text": [
      "[warn] timeout http://npbstats.com/players/db/pitching/?wdt_search=101766 — retry 1 in 1s\n"
     ]
    },
    {
     "name": "stderr",
     "output_type": "stream",
     "text": [
      "Scraping pitching (16/7):  30%|███       | 2188/7184 [8:16:24<17:12:49, 12.40s/it, pid=102189]"
     ]
    },
    {
     "name": "stdout",
     "output_type": "stream",
     "text": [
      "[saved] pitching_chunk_1.csv\n"
     ]
    },
    {
     "name": "stderr",
     "output_type": "stream",
     "text": [
      "Scraping pitching (16/7):  35%|███▌      | 2532/7184 [9:33:27<30:04:26, 23.27s/it, pid=102533]"
     ]
    },
    {
     "name": "stdout",
     "output_type": "stream",
     "text": [
      "[warn] timeout http://npbstats.com/players/db/pitching/?wdt_search=102533 — retry 1 in 1s\n",
      "[warn] timeout http://npbstats.com/players/db/pitching/?wdt_search=102533 — retry 2 in 2s\n"
     ]
    },
    {
     "name": "stderr",
     "output_type": "stream",
     "text": [
      "Scraping pitching (16/7):  38%|███▊      | 2765/7184 [10:34:09<25:19:12, 20.63s/it, pid=102766]"
     ]
    },
    {
     "name": "stdout",
     "output_type": "stream",
     "text": [
      "[warn] timeout http://npbstats.com/players/db/pitching/?wdt_search=102766 — retry 1 in 1s\n",
      "[warn] timeout http://npbstats.com/players/db/pitching/?wdt_search=102766 — retry 2 in 2s\n"
     ]
    },
    {
     "name": "stderr",
     "output_type": "stream",
     "text": [
      "Scraping pitching (16/7):  39%|███▉      | 2794/7184 [10:43:33<18:15:32, 14.97s/it, pid=102795]"
     ]
    },
    {
     "name": "stdout",
     "output_type": "stream",
     "text": [
      "[warn] timeout http://npbstats.com/players/db/pitching/?wdt_search=102795 — retry 1 in 1s\n"
     ]
    },
    {
     "name": "stderr",
     "output_type": "stream",
     "text": [
      "Scraping pitching (16/7):  53%|█████▎    | 3776/7184 [14:17:27<15:32:52, 16.42s/it, pid=103777]"
     ]
    },
    {
     "name": "stdout",
     "output_type": "stream",
     "text": [
      "[saved] pitching_chunk_2.csv\n"
     ]
    },
    {
     "name": "stderr",
     "output_type": "stream",
     "text": [
      "Scraping pitching (16/7):  72%|███████▏  | 5199/7184 [19:51:24<7:15:27, 13.16s/it, pid=105200] "
     ]
    },
    {
     "name": "stdout",
     "output_type": "stream",
     "text": [
      "[saved] pitching_chunk_3.csv\n"
     ]
    },
    {
     "name": "stderr",
     "output_type": "stream",
     "text": [
      "Scraping pitching (16/7):  77%|███████▋  | 5533/7184 [21:11:38<7:23:26, 16.12s/it, pid=105534] "
     ]
    },
    {
     "name": "stdout",
     "output_type": "stream",
     "text": [
      "[warn] timeout http://npbstats.com/players/db/pitching/?wdt_search=105534 — retry 1 in 1s\n"
     ]
    },
    {
     "name": "stderr",
     "output_type": "stream",
     "text": [
      "Scraping pitching (16/7):  79%|███████▉  | 5708/7184 [21:56:38<8:09:13, 19.89s/it, pid=105709] "
     ]
    },
    {
     "name": "stdout",
     "output_type": "stream",
     "text": [
      "[warn] timeout http://npbstats.com/players/db/pitching/?wdt_search=105709 — retry 1 in 1s\n"
     ]
    },
    {
     "name": "stderr",
     "output_type": "stream",
     "text": [
      "Scraping pitching (16/7):  94%|█████████▍| 6755/7184 [25:57:13<1:19:01, 11.05s/it, pid=106756] "
     ]
    },
    {
     "name": "stdout",
     "output_type": "stream",
     "text": [
      "[saved] pitching_chunk_4.csv\n"
     ]
    },
    {
     "name": "stderr",
     "output_type": "stream",
     "text": [
      "Scraping pitching (16/7): 100%|██████████| 7184/7184 [27:34:53<00:00, 13.82s/it, pid=107184]  \n"
     ]
    },
    {
     "name": "stdout",
     "output_type": "stream",
     "text": [
      "Done.\n"
     ]
    }
   ],
   "source": [
    "import time, pandas as pd\n",
    "from bs4 import BeautifulSoup\n",
    "from selenium import webdriver\n",
    "from selenium.webdriver.chrome.options import Options\n",
    "from selenium.webdriver.common.by import By\n",
    "from selenium.webdriver.support.ui import WebDriverWait\n",
    "from selenium.webdriver.support import expected_conditions as EC\n",
    "from selenium.common.exceptions import TimeoutException\n",
    "from tqdm import tqdm\n",
    "\n",
    "def safe_get_and_wait(driver, wait, url, max_retries=2):\n",
    "    for attempt in range(max_retries + 1):\n",
    "        try:\n",
    "            driver.get(url)\n",
    "            wait.until(\n",
    "                EC.presence_of_element_located(\n",
    "                    (By.CSS_SELECTOR, \"#table_16 tbody tr.odd, #table_16 tbody tr.even\")\n",
    "                )\n",
    "            )\n",
    "            wait.until(\n",
    "                EC.presence_of_element_located(\n",
    "                    (By.CSS_SELECTOR, \"#table_7 tbody tr.odd, #table_7 tbody tr.even\")\n",
    "                )\n",
    "            )\n",
    "            time.sleep(0.2)\n",
    "            return True\n",
    "        except TimeoutException:\n",
    "            if attempt < max_retries:\n",
    "                backoff = 2 ** attempt\n",
    "                time.sleep(backoff)\n",
    "            else:\n",
    "                return False\n",
    "\n",
    "def scrape_pitching(ids, chunk_size=5000):\n",
    "    opts = Options()\n",
    "    opts.add_argument(\"--headless=new\"), opts.add_argument(\"--disable-gpu\")\n",
    "    opts.add_argument(\"--window-size=1920,1080\")\n",
    "    opts.add_argument(\"user-agent=Mozilla/5.0 (Windows NT 10.0; Win64; x64)\")\n",
    "    opts.add_experimental_option(\"excludeSwitches\", [\"enable-automation\"])\n",
    "    opts.add_experimental_option(\"useAutomationExtension\", False)\n",
    "\n",
    "    driver = webdriver.Chrome(options=opts)\n",
    "    driver.execute_cdp_cmd(\n",
    "        \"Page.addScriptToEvaluateOnNewDocument\",\n",
    "        {\"source\": \"Object.defineProperty(navigator,'webdriver',{get:()=>undefined})\"},\n",
    "    )\n",
    "    wait = WebDriverWait(driver, 20)\n",
    "\n",
    "    rows, chunk_idx = [], 1\n",
    "    try:\n",
    "        pbar = tqdm(ids, desc=\"Scraping pitching (16/7)\")\n",
    "        for pid in pbar:\n",
    "            pbar.set_postfix(pid=pid)\n",
    "            url = f\"http://npbstats.com/players/db/pitching/?wdt_search={pid}\"\n",
    "            if not safe_get_and_wait(driver, wait, url):\n",
    "                continue\n",
    "\n",
    "            soup = BeautifulSoup(driver.page_source, \"lxml\")\n",
    "            \n",
    "            # table 1\n",
    "            bio_tbl = soup.find(\"table\", id=\"table_1\")\n",
    "            if not bio_tbl:\n",
    "                continue\n",
    "            bio_df = pd.read_html(str(bio_tbl), flavor=\"lxml\")[0]\n",
    "            bio_df.columns = bio_df.columns.str.strip()\n",
    "            bio = bio_df.iloc[0].to_dict() | {\"SearchID\": pid}\n",
    "\n",
    "            # table 7\n",
    "            dash_tbl = soup.find(\"table\", id=\"table_7\")\n",
    "            dash_df = pd.read_html(str(dash_tbl), flavor=\"lxml\")[0]\n",
    "            dash_df.columns = dash_df.columns.str.strip()\n",
    "            dash_df[\"SearchID\"] = pid\n",
    "\n",
    "            # table 16\n",
    "            pit_tbl = soup.find(\"table\", id=\"table_16\")\n",
    "            pit_df = pd.read_html(str(pit_tbl), flavor=\"lxml\")[0]\n",
    "            pit_df.columns = pit_df.columns.str.strip()\n",
    "            pit_df[\"SearchID\"] = pid\n",
    "\n",
    "            pit_df = pit_df.drop_duplicates(\"Year\")\n",
    "            dash_df = dash_df.drop_duplicates(\"Year\")\n",
    "            merged = pit_df.merge(dash_df, on=\"Year\", how=\"left\")\n",
    "\n",
    "            for _, season in merged.iterrows():\n",
    "                if season[\"Year\"] == \"データはありません。\":\n",
    "                    continue\n",
    "                rows.append({**bio, **season.to_dict()})\n",
    "\n",
    "            if len(rows) >= chunk_size:\n",
    "                pd.DataFrame(rows).to_csv(f\"pitching_chunk_{chunk_idx}.csv\", index=False)\n",
    "                rows.clear(); chunk_idx += 1\n",
    "    finally:\n",
    "        driver.quit()\n",
    "\n",
    "    return pd.DataFrame(rows)\n",
    "\n",
    "if __name__ == \"__main__\":\n",
    "    ids = [str(pid) for pid in range(100001, 107185)]\n",
    "\n",
    "    df_pitch = scrape_pitching(ids)\n",
    "    if not df_pitch.empty:\n",
    "        df_pitch.to_csv(\"pitching_final.csv\", index=False)"
   ]
  },
  {
   "cell_type": "code",
   "execution_count": 8,
   "id": "42291180",
   "metadata": {},
   "outputs": [
    {
     "name": "stdout",
     "output_type": "stream",
     "text": [
      "Found 5 files: ['pitching_final.csv', 'pitching_chunk_1.csv', 'pitching_chunk_2.csv', 'pitching_chunk_3.csv', 'pitching_chunk_4.csv']\n"
     ]
    }
   ],
   "source": [
    "import glob\n",
    "import pandas as pd\n",
    "from pathlib import Path\n",
    "\n",
    "csv_files = sorted(glob.glob(\"pitching_chunk_*.csv\") + [\"pitching_final.csv\"], key=lambda p: (p.count(\"_\"), p))"
   ]
  },
  {
   "cell_type": "code",
   "execution_count": null,
   "id": "f3085f25",
   "metadata": {},
   "outputs": [],
   "source": [
    "frames = []\n",
    "for f in csv_files:\n",
    "    df = pd.read_csv(f)\n",
    "    frames.append(df)"
   ]
  },
  {
   "cell_type": "code",
   "execution_count": null,
   "id": "d1111704",
   "metadata": {},
   "outputs": [],
   "source": [
    "big_df = pd.concat(frames, ignore_index=True)\n",
    "big_df = big_df.sort_values(\"SearchID\", key=lambda s: s.astype(int))\n",
    "\n",
    "out_path = Path(\"npbstats_pitching_full.csv\")\n",
    "big_df.to_csv(out_path, index=False)"
   ]
  }
 ],
 "metadata": {
  "kernelspec": {
   "display_name": "base",
   "language": "python",
   "name": "python3"
  },
  "language_info": {
   "codemirror_mode": {
    "name": "ipython",
    "version": 3
   },
   "file_extension": ".py",
   "mimetype": "text/x-python",
   "name": "python",
   "nbconvert_exporter": "python",
   "pygments_lexer": "ipython3",
   "version": "3.11.5"
  }
 },
 "nbformat": 4,
 "nbformat_minor": 5
}
